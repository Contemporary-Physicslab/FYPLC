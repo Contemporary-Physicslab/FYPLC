{
 "cells": [
  {
   "cell_type": "markdown",
   "id": "4c026bc5",
   "metadata": {},
   "source": [
    "## Solutions to Exercises<a class=\"anchor\" id=\"section_2_4\"></a>"
   ]
  },
  {
   "cell_type": "markdown",
   "id": "3530f1d0",
   "metadata": {},
   "source": [
    "**Exercise 2.1** "
   ]
  },
  {
   "cell_type": "code",
   "execution_count": null,
   "id": "aa10c4d1",
   "metadata": {},
   "outputs": [],
   "source": [
    "var=3.5\n",
    "\n",
    "# Example: one  space is actually enough! But is discouraged, as you can see\n",
    "# by the fact the the notebook made it red colored. \n",
    "def myfunction():\n",
    " var2 =  int(var)\n",
    " print(var2)\n",
    "\n",
    "# Once you've started a code block though with a specific indentaton, then you cant change\n",
    "# it anymore.\n",
    "def myfunction():\n",
    "    var2 =  int(var)\n",
    "   print(var2)"
   ]
  },
  {
   "cell_type": "markdown",
   "id": "2d179898",
   "metadata": {},
   "source": [
    "**Exercise 2.2** "
   ]
  },
  {
   "cell_type": "code",
   "execution_count": null,
   "id": "1435c422",
   "metadata": {},
   "outputs": [],
   "source": [
    "def myfunction(var):\n",
    "    var2 =  int(var)\n",
    "    print(var2)"
   ]
  },
  {
   "cell_type": "markdown",
   "id": "870b584e",
   "metadata": {},
   "source": [
    "**Exercise 2.3** "
   ]
  },
  {
   "cell_type": "code",
   "execution_count": null,
   "id": "e1468650",
   "metadata": {},
   "outputs": [],
   "source": [
    "def print_status4(x, y, z):\n",
    "    print(\"The value of the first input variable is \", x)\n",
    "    print(\"The value of the second input variable is \", y)\n",
    "    print(\"The value of the third input variable is \", z)\n",
    "\n",
    "print_status4(1,2,3)"
   ]
  },
  {
   "cell_type": "markdown",
   "id": "83cf56a7",
   "metadata": {},
   "source": [
    "**Exercise 2.4** **(a)** "
   ]
  },
  {
   "cell_type": "code",
   "execution_count": null,
   "id": "b1daacea",
   "metadata": {},
   "outputs": [],
   "source": [
    "# Your function here\n",
    "def product_and_sum(a,b):\n",
    "    return a*b, a+b"
   ]
  },
  {
   "cell_type": "markdown",
   "id": "befd89c9",
   "metadata": {},
   "source": [
    "**(b)** "
   ]
  },
  {
   "cell_type": "code",
   "execution_count": null,
   "id": "9e94a7fc",
   "metadata": {},
   "outputs": [],
   "source": [
    "a=1.5\n",
    "b=2.5\n",
    "\n",
    "p,s = product_and_sum(a,b)\n",
    "\n",
    "print(\"Sum is:\", s)\n",
    "print(\"Product is:\", p)"
   ]
  },
  {
   "cell_type": "markdown",
   "id": "996e445b",
   "metadata": {},
   "source": [
    "**Exercise 2.5** **(a)**"
   ]
  },
  {
   "cell_type": "code",
   "execution_count": null,
   "id": "f78fce81",
   "metadata": {},
   "outputs": [],
   "source": [
    "help(abs)"
   ]
  },
  {
   "cell_type": "code",
   "execution_count": null,
   "id": "7d138cee",
   "metadata": {},
   "outputs": [],
   "source": [
    "help(int)"
   ]
  },
  {
   "cell_type": "code",
   "execution_count": null,
   "id": "5687ca35",
   "metadata": {},
   "outputs": [],
   "source": [
    "help(input)"
   ]
  },
  {
   "cell_type": "markdown",
   "id": "ddca8791",
   "metadata": {},
   "source": [
    "**(b)**"
   ]
  },
  {
   "cell_type": "code",
   "execution_count": null,
   "id": "b12c223a",
   "metadata": {},
   "outputs": [],
   "source": [
    "from glob import glob\n",
    "help(glob)"
   ]
  },
  {
   "cell_type": "code",
   "execution_count": null,
   "id": "66b8a9a6",
   "metadata": {},
   "outputs": [],
   "source": [
    "glob(\"../*\")\n",
    "# It returns list of files and folders in the parent directory of that\n",
    "# in which this notebook is stored"
   ]
  },
  {
   "cell_type": "markdown",
   "id": "e2a93335",
   "metadata": {},
   "source": [
    "**Exercise 2.6 (a)**"
   ]
  },
  {
   "cell_type": "code",
   "execution_count": null,
   "id": "4064a165",
   "metadata": {},
   "outputs": [],
   "source": [
    "def f(x): # All differentiable functions are correct\n",
    "    return np.sin(x)\n",
    "\n",
    "print(f(0), f(1))"
   ]
  },
  {
   "cell_type": "markdown",
   "id": "060ca020",
   "metadata": {},
   "source": [
    "**Exercise 2.6 (b)**"
   ]
  },
  {
   "cell_type": "code",
   "execution_count": null,
   "id": "7dd98db2",
   "metadata": {},
   "outputs": [],
   "source": [
    "def determine_slope(a, epsilon):\n",
    "    dy = f(a + epsilon) - f(a - epsilon)\n",
    "    dx = 2 * epsilon\n",
    "    return dy/dx"
   ]
  },
  {
   "cell_type": "markdown",
   "id": "746c58a2",
   "metadata": {},
   "source": [
    "**Exercise 2.6 (c)**"
   ]
  },
  {
   "cell_type": "code",
   "execution_count": null,
   "id": "5fcdb48a",
   "metadata": {},
   "outputs": [],
   "source": [
    "def print_tangent(a, epsilon):\n",
    "    m = determine_slope(a, epsilon)\n",
    "    b = f(a) - m*a\n",
    "    print(\"The tangent line of the function is: y = {}x + {}\".format(round(m,3), round(b,3)))\n",
    "    \n",
    "epsilon = 0.01   # Depending on the function, a larger epsilon may also be sufficient or a smaller one may be required.\n",
    "a       = 0      # Again, an arbitrary choice.\n",
    "\n",
    "print_tangent(a, epsilon)"
   ]
  },
  {
   "cell_type": "markdown",
   "id": "a914b71c",
   "metadata": {},
   "source": [
    "**Exercise 2.7**"
   ]
  },
  {
   "cell_type": "code",
   "execution_count": null,
   "id": "87645a2e",
   "metadata": {},
   "outputs": [],
   "source": [
    "x = np.array([1.1, 3.4, 4.7, 5.3, 6.8])\n",
    "y = np.array([1.05, 1.62, 1.95, 2.10, 2.47])\n",
    "\n",
    "x_test = np.linspace(0,1.2*max(x),1000)\n",
    "\n",
    "def func(x,a,b):\n",
    "    return a*x+b\n",
    "\n",
    "y_test = func(x_test,.27,0.7)\n",
    "\n",
    "plt.figure()\n",
    "\n",
    "plt.plot(x,y,'k.', label='measurements')\n",
    "plt.plot(x_test,y_test,'r--', label='fitline')\n",
    "\n",
    "plt.xlabel('$x$')\n",
    "plt.ylabel('$y$')\n",
    "\n",
    "plt.xlim(0,1.1*max(x))\n",
    "\n",
    "plt.show()\n"
   ]
  },
  {
   "cell_type": "markdown",
   "id": "34b53343",
   "metadata": {},
   "source": [
    "**Exercise 2.8 (a)**"
   ]
  },
  {
   "cell_type": "code",
   "execution_count": null,
   "id": "5a3c1d19",
   "metadata": {},
   "outputs": [],
   "source": [
    "k = 8.988e9\n",
    "def F(q1,q2,r):\n",
    "    return k*q1*q2/r**2"
   ]
  },
  {
   "cell_type": "markdown",
   "id": "813cfdd5",
   "metadata": {},
   "source": [
    "**Exercise 2.8 (b)**"
   ]
  },
  {
   "cell_type": "code",
   "execution_count": null,
   "id": "2871db01",
   "metadata": {},
   "outputs": [],
   "source": [
    "r = np.arange(0.5E-10,6E-10,0.1E-10)\n",
    "F_q = F(1.602E-19,-1.602E-19,r)\n",
    "plt.figure()\n",
    "plt.plot(r,F_q,'k.')\n",
    "plt.xlabel('$r$ (m)')\n",
    "plt.ylabel('$F$ (N)')\n",
    "plt.show()\n"
   ]
  },
  {
   "cell_type": "code",
   "execution_count": null,
   "id": "8adfd1fd",
   "metadata": {},
   "outputs": [],
   "source": []
  }
 ],
 "metadata": {
  "language_info": {
   "name": "python"
  }
 },
 "nbformat": 4,
 "nbformat_minor": 5
}
