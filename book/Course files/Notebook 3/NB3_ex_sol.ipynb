{
 "cells": [
  {
   "cell_type": "markdown",
   "id": "f2b7ae42",
   "metadata": {},
   "source": [
    "## Solutions to exercises<a class=\"anchor\" id=\"section_3_4\"></a>"
   ]
  },
  {
   "cell_type": "markdown",
   "id": "7cd98cb3",
   "metadata": {},
   "source": [
    "**Exercise 3.1** "
   ]
  },
  {
   "cell_type": "code",
   "execution_count": null,
   "id": "73e2678e",
   "metadata": {},
   "outputs": [],
   "source": [
    "if 1:\n",
    "    print('The expression is true')"
   ]
  },
  {
   "cell_type": "code",
   "execution_count": null,
   "id": "b06196de",
   "metadata": {},
   "outputs": [],
   "source": [
    "if 103.51:\n",
    "    print('The expression is true')"
   ]
  },
  {
   "cell_type": "code",
   "execution_count": null,
   "id": "2d63ce75",
   "metadata": {},
   "outputs": [],
   "source": [
    "if -1:\n",
    "    print('The expression is true')"
   ]
  },
  {
   "cell_type": "code",
   "execution_count": null,
   "id": "9c1df69a",
   "metadata": {},
   "outputs": [],
   "source": [
    "a = True\n",
    "if a:\n",
    "    print('The expression is true')"
   ]
  },
  {
   "cell_type": "code",
   "execution_count": null,
   "id": "a3e6c7a9",
   "metadata": {},
   "outputs": [],
   "source": [
    "b = -73.445\n",
    "if b:\n",
    "    print('The expression is true')"
   ]
  },
  {
   "cell_type": "markdown",
   "id": "74b7c9ed",
   "metadata": {},
   "source": [
    "**Exercise 3.2**"
   ]
  },
  {
   "cell_type": "code",
   "execution_count": null,
   "id": "cc62e79c",
   "metadata": {},
   "outputs": [],
   "source": [
    "if 5 < 5.1:\n",
    "    print('The expression is true')"
   ]
  },
  {
   "cell_type": "code",
   "execution_count": null,
   "id": "042c5f56",
   "metadata": {},
   "outputs": [],
   "source": [
    "if 5 <= 5:\n",
    "    print('The expression is true')"
   ]
  },
  {
   "cell_type": "code",
   "execution_count": null,
   "id": "9607b8d4",
   "metadata": {},
   "outputs": [],
   "source": [
    "if 5.1 > 5.1:\n",
    "    print('The expression is true')"
   ]
  },
  {
   "cell_type": "code",
   "execution_count": null,
   "id": "504a5d19",
   "metadata": {},
   "outputs": [],
   "source": [
    "if 5.1 >= 5.1:\n",
    "    print('The expression is true')"
   ]
  },
  {
   "cell_type": "code",
   "execution_count": null,
   "id": "105b703e",
   "metadata": {},
   "outputs": [],
   "source": [
    "# \"!=\" is \"not-equals\"\n",
    "if 5 != 5.1:\n",
    "    print('The expression is true')"
   ]
  },
  {
   "cell_type": "markdown",
   "id": "34206ce6",
   "metadata": {},
   "source": [
    "**Exercise 3.3** **(a)** "
   ]
  },
  {
   "cell_type": "code",
   "execution_count": null,
   "id": "e02a0294",
   "metadata": {},
   "outputs": [],
   "source": [
    "if 5 < 6 and 10 <= 9:\n",
    "    print(\"i don't think this is true\")"
   ]
  },
  {
   "cell_type": "markdown",
   "id": "18cc305d",
   "metadata": {},
   "source": [
    "**(b)** "
   ]
  },
  {
   "cell_type": "code",
   "execution_count": null,
   "id": "f46aad0d",
   "metadata": {},
   "outputs": [],
   "source": [
    "if not False or True:\n",
    "    print(\"it is true?\")\n",
    "else:\n",
    "    print(\"it wasn't true?\")"
   ]
  },
  {
   "cell_type": "markdown",
   "id": "4d159d3f",
   "metadata": {},
   "source": [
    "**Exercise 3.4** "
   ]
  },
  {
   "cell_type": "code",
   "execution_count": null,
   "id": "4c8ce53a",
   "metadata": {},
   "outputs": [],
   "source": [
    "def check_number(a):\n",
    "    if a <= 5:\n",
    "        print(a, \"is less than or equal to 5\")\n",
    "    elif a < 10: \n",
    "        # note we don't need to test if it's greater than 5 since the first if already took \n",
    "        # care of that for us\n",
    "        print(a, \"is between 5 and 10\")\n",
    "    else:\n",
    "        print(a, \"is greater than or equal to 10\")\n",
    "        \n",
    "# Testing your function\n",
    "check_number(1)  \n",
    "check_number(5)  \n",
    "check_number(7)\n",
    "check_number(10)\n",
    "check_number(15)"
   ]
  },
  {
   "cell_type": "markdown",
   "id": "4db4636d",
   "metadata": {},
   "source": [
    "**Exercise 3.5** "
   ]
  },
  {
   "cell_type": "code",
   "execution_count": null,
   "id": "ea7f0cb6",
   "metadata": {},
   "outputs": [],
   "source": [
    "def factorial(a):\n",
    "    # f = our factorial result\n",
    "    f = 1\n",
    "    i = 2\n",
    "    while(i<=a):\n",
    "        f *= i\n",
    "        i += 1\n",
    "    return f\n",
    "    \n",
    "print(factorial(4))\n",
    "print(factorial(2))"
   ]
  },
  {
   "cell_type": "markdown",
   "id": "54aa2955",
   "metadata": {},
   "source": [
    "**Exercise 3.6** "
   ]
  },
  {
   "cell_type": "code",
   "execution_count": null,
   "id": "9920dfc7",
   "metadata": {},
   "outputs": [],
   "source": [
    "# Your code here\n",
    "\n",
    "s = 0\n",
    "for i in range(11):\n",
    "    s += np.sin(i)**2\n",
    "\n",
    "print(\"Sum is\", s)"
   ]
  },
  {
   "cell_type": "markdown",
   "id": "0647baf5",
   "metadata": {},
   "source": [
    "**Exercise 3.7** "
   ]
  },
  {
   "cell_type": "code",
   "execution_count": null,
   "id": "8b6c32b6",
   "metadata": {},
   "outputs": [],
   "source": [
    "s = 0\n",
    "\n",
    "# Note the range should end at 101!\n",
    "# It should also start at 1: range(101) will also execute \n",
    "# the loop with i=0 (which won't matter here...)\n",
    "for i in range(1,101):\n",
    "    s += i\n",
    "\n",
    "print(s)"
   ]
  },
  {
   "cell_type": "markdown",
   "id": "0010b5d7",
   "metadata": {},
   "source": [
    "**Exercise 3.8** "
   ]
  },
  {
   "cell_type": "code",
   "execution_count": null,
   "id": "ac95fb75",
   "metadata": {},
   "outputs": [],
   "source": [
    "# Solution\n",
    "\n",
    "maxnum=1e6\n",
    "i=0\n",
    "while i <= maxnum:\n",
    "    if i*(i-10)==257024:\n",
    "        break\n",
    "    i+=1\n",
    "    \n",
    "print(i)"
   ]
  },
  {
   "cell_type": "markdown",
   "id": "228a27d7",
   "metadata": {},
   "source": [
    "**Exercise 3.9**"
   ]
  },
  {
   "cell_type": "code",
   "execution_count": null,
   "id": "c154fcc4",
   "metadata": {},
   "outputs": [],
   "source": [
    "def leap_year(year):\n",
    "    if year % 4 == 0:\n",
    "        if year % 100 == 0:\n",
    "            if year % 400 == 0:\n",
    "                return True\n",
    "            return False\n",
    "        return True\n",
    "    return False"
   ]
  },
  {
   "cell_type": "markdown",
   "id": "77dcb7dd",
   "metadata": {},
   "source": [
    "**Exercise 3.10**"
   ]
  },
  {
   "cell_type": "code",
   "execution_count": null,
   "id": "da0c7259",
   "metadata": {},
   "outputs": [],
   "source": [
    "## Solution\n",
    "import numpy as np\n",
    "y = np.array([2, 2, 3, 4, 5, 4, 3, 8, 6, 4]) \n",
    "\n",
    "for i in range(1, len(y)-1):\n",
    "    if y[i-1] < y[i] and y[i+1] < y[i]:\n",
    "        print('index:', i, '\\t value:', y[i])                                  \n"
   ]
  },
  {
   "cell_type": "markdown",
   "id": "81fabfba",
   "metadata": {},
   "source": [
    "**Exercise 3.11**"
   ]
  },
  {
   "cell_type": "code",
   "execution_count": null,
   "id": "67745e1d",
   "metadata": {},
   "outputs": [],
   "source": [
    "password = 'practicum123'\n",
    "tries = 0 \n",
    "\n",
    "from time import sleep\n",
    "\n",
    "while True:\n",
    "    input_pw = input('What is the password?')\n",
    "    if input_pw == password:\n",
    "        break\n",
    "    if (tries+1)%3==0:\n",
    "        sleep(60+tries**3)\n",
    "    tries += 1\n"
   ]
  }
 ],
 "metadata": {
  "language_info": {
   "name": "python"
  }
 },
 "nbformat": 4,
 "nbformat_minor": 5
}
