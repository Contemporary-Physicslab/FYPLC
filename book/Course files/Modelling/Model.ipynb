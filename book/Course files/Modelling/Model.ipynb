{
 "cells": [
  {
   "cell_type": "markdown",
   "id": "5068db84",
   "metadata": {},
   "source": [
    "# Model\n",
    "\n",
    "Some students have done a study on falling cones. They recorded the fall of the cone and use tracking software to get the position of the cone as a function of time, see [here](fallingcone.csv). They want to compare their results with a simple model of a falling object with air resistance. They have three different models for the air resistance:\n",
    "\n",
    "$$F_{drag} = -b v$$\n",
    "\n",
    "$$F_{drag} = -c v^2$$\n",
    "\n",
    "$$F_{drag} = -c \\sqrt{v}$$\n",
    "\n",
    "Unfortunately, they forgot to measure the mass of the cone resulting in two unknowns: the mass and the drag coefficient. \n",
    "\n",
    "In order to find the best values for these parameters, they want to run a simulation of the fall and compare the results with their measurements. It would be easiest if they could use sliders to play around with the two parameters. You have seen that in the mechanics book, where there are various apps with interactive widgets.\n",
    "\n",
    "\n",
    "```{note}\n",
    "You might have to install additional packages in order to run the code! You know how to do that as you did it for numpy and matplotlib. An error message will tell you which package is missing.\n",
    "```\n",
    "\n",
    "```{exercise}\n",
    "1. Load and plot the data\n",
    "2. Write a function that simulates the fall of the cone using the Euler method. The function should take the mass and drag coefficient as input and return the position as a function of time.\n",
    "3. Use the function to simulate the fall of the cone for different values of the mass and drag coefficient.\n",
    "4. Plot the results of the simulation together with the data.\n",
    "5. Use interactive widgets to create sliders for the mass and drag coefficient.\n",
    "```\n"
   ]
  },
  {
   "cell_type": "code",
   "execution_count": null,
   "id": "0a8266aa",
   "metadata": {},
   "outputs": [],
   "source": []
  }
 ],
 "metadata": {
  "kernelspec": {
   "display_name": "base",
   "language": "python",
   "name": "python3"
  },
  "language_info": {
   "codemirror_mode": {
    "name": "ipython",
    "version": 3
   },
   "file_extension": ".py",
   "mimetype": "text/x-python",
   "name": "python",
   "nbconvert_exporter": "python",
   "pygments_lexer": "ipython3",
   "version": "3.13.5"
  }
 },
 "nbformat": 4,
 "nbformat_minor": 5
}
