{
 "cells": [
  {
   "cell_type": "markdown",
   "id": "5068db84",
   "metadata": {},
   "source": [
    "# Model\n"
   ]
  },
  {
   "cell_type": "code",
   "execution_count": null,
   "id": "55b41cf8",
   "metadata": {},
   "outputs": [
    {
     "data": {
      "image/png": "[encoded data removed]",
      "text/plain": [
       "<Figure size 640x480 with 1 Axes>"
      ]
     },
     "metadata": {},
     "output_type": "display_data"
    }
   ],
   "source": [
    "### BEGIN_SOLUTION\n",
    "import numpy as np\n",
    "import matplotlib.pyplot as plt\n",
    "\n",
    "data = np.loadtxt(\"fallingcone.csv\", skiprows=1, delimiter=\";\")\n",
    "\n",
    "t = np.linspace(0,np.max(data[:,0]),50)\n",
    "dt = t[2]-t[1]\n",
    "\n",
    "N = len(t)\n",
    "x = np.zeros(N)\n",
    "v = np.zeros(N)\n",
    "m = 15E-3\n",
    "g = 9.81\n",
    "c = 0.1\n",
    "\n",
    "for i in range(N-1):\n",
    "    F_net = m*g - c*v[i]**2\n",
    "    v[i+1] = v[i] + F_net/m*dt\n",
    "    x[i+1] = x[i] + v[i]*dt\n",
    "    \n",
    "plt.figure()\n",
    "plt.xlabel('$t$ [s]')\n",
    "plt.ylabel('$y$ [m]')\n",
    "\n",
    "plt.plot(data[:-20,0],data[:-20,1],'k.')\n",
    "plt.plot(t[:-20],x[:-20],'r--')\n",
    "plt.show()\n",
    "\n",
    "### END_SOLUTION"
   ]
  },
  {
   "cell_type": "code",
   "execution_count": 25,
   "id": "2cbdbb0d",
   "metadata": {},
   "outputs": [
    {
     "data": {
      "application/vnd.jupyter.widget-view+json": {
       "model_id": "cab578e929bf4fb1958804bdb09db2f1",
       "version_major": 2,
       "version_minor": 0
      },
      "text/plain": [
       "interactive(children=(FloatSlider(value=0.001, description='m', max=0.01, min=0.0001, step=0.0005), FloatSlide…"
      ]
     },
     "metadata": {},
     "output_type": "display_data"
    },
    {
     "data": {
      "text/plain": [
       "<function __main__.update(m, c)>"
      ]
     },
     "execution_count": 25,
     "metadata": {},
     "output_type": "execute_result"
    }
   ],
   "source": [
    "### BEGIN_SOLUTION\n",
    "import numpy as np\n",
    "import matplotlib.pyplot as plt\n",
    "from ipywidgets import interact\n",
    "import ipywidgets as widgets\n",
    "\n",
    "data = np.loadtxt(\"fallingcone.csv\", skiprows=1, delimiter=\";\")\n",
    "\n",
    "t = np.linspace(0,np.max(data[:,0]),50)\n",
    "dt = t[2]-t[1]\n",
    "m = 15E-3\n",
    "g = 9.81\n",
    "c = 0.1\n",
    "\n",
    "def update(m,c):\n",
    "    N = len(t)\n",
    "    x = np.zeros(N)\n",
    "    v = np.zeros(N)\n",
    "\n",
    "\n",
    "\n",
    "    for i in range(N-1):\n",
    "        F_net = m*g - c*v[i]**2\n",
    "        v[i+1] = v[i] + F_net/m*dt\n",
    "        x[i+1] = x[i] + v[i]*dt\n",
    "\n",
    "    plt.clf()    \n",
    "    plt.figure()\n",
    "    plt.xlabel('$t$ [s]')\n",
    "    plt.ylabel('$y$ [m]')\n",
    "\n",
    "    plt.plot(data[:-20,0],data[:-20,1],'k.')\n",
    "    plt.plot(t[:-20],x[:-20],'r--')\n",
    "    plt.show()\n",
    "\n",
    "interact(update, m=widgets.FloatSlider(min=1E-4, max=1E-2, step=5E-4, value=1E-3),\n",
    "         c=widgets.FloatSlider(min=1E-3, max=1E-2, step=1E-3, value=.5))\n",
    "### END_SOLUTION"
   ]
  },
  {
   "cell_type": "code",
   "execution_count": null,
   "id": "0a8266aa",
   "metadata": {},
   "outputs": [],
   "source": []
  }
 ],
 "metadata": {
  "kernelspec": {
   "display_name": "base",
   "language": "python",
   "name": "python3"
  },
  "language_info": {
   "codemirror_mode": {
    "name": "ipython",
    "version": 3
   },
   "file_extension": ".py",
   "mimetype": "text/x-python",
   "name": "python",
   "nbconvert_exporter": "python",
   "pygments_lexer": "ipython3",
   "version": "3.13.5"
  }
 },
 "nbformat": 4,
 "nbformat_minor": 5
}
