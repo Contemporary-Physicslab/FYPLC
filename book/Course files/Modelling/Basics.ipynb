{
 "cells": [
  {
   "cell_type": "markdown",
   "id": "bc26aa32-10ef-45db-9130-151e3f5dde49",
   "metadata": {},
   "source": [
    "# Basics\n"
   ]
  },
  {
   "cell_type": "markdown",
   "id": "badb22ce-0686-41c6-918e-903757f1100b",
   "metadata": {},
   "source": [
    "Computer simulations are a crucial part of physics research: what we can't do in the lab, or what we can't measure effectively, we can still study thanks to simulations. In this module, we'll lay the foundation for physics computer simulations. You may already be familiar with some of these as you might have used `Coach` at secondary school. \n",
    "\n",
    "The foundation of a good computer simulation, just like solving a physics problem, lies in a thorough, systematic approach. This often begins with:\n",
    "1. Drawing the situation\n",
    "2. Writing down the working formulas\n",
    "3. Indicating directions and noting variables.\n",
    "4. Writing the algorithm and frequently testing it - even intermediate steps.\n",
    "\n",
    "\n",
    "```{exercise}\n",
    "As a starting task, we will model a mass-spring system. Go through the three steps outlined above. Take a picture of your drawing and add it in this notebook.\n",
    "```"
   ]
  },
  {
   "cell_type": "markdown",
   "id": "07a6e72c-8fd2-4b4c-be4d-28073a0c09d0",
   "metadata": {},
   "source": [
    "<!-- Jouw antwoorden -->\n",
    "\n"
   ]
  },
  {
   "cell_type": "markdown",
   "id": "4c9e193c-d432-47a2-b096-35695ca7b5b6",
   "metadata": {},
   "source": [
    "## Numerical integration\n",
    "To create a simulation, we break down the entire process that we want to stimulate into small steps with a fixed (time) interval, as shown in the figure below. Each step is assigned a number, from $0$ to $N$. We use the letter $i$ to refer to a specific step.\n",
    "\n",
    "The data from step $i$ is used to calculate the values in step $i+1$, for example:\n",
    "\n",
    "$$x_{i+1} = x_i + v_i\\cdot\\Delta t$$\n",
    "\n",
    "```{figure} ../Figures/interval.jpg\n",
    ":width: 50%\n",
    "\n",
    "The entire process is broken down into small pieces: time discretization.\n",
    "```"
   ]
  },
  {
   "cell_type": "markdown",
   "id": "9155f57d-4dbc-44d2-8dfa-2a373d1ce5ab",
   "metadata": {},
   "source": [
    "You may have seen the above example before with [Coach](https://cma-science.nl/home-2). Unlike in Coach, we have to explicitly store the values ​​in an array. Because creating a new cell in an array with each step is computationally expensive, it is more convenient to first create arrays with a value of 0.\n",
    "\n",
    "Let's take two cyclists as an example, with cyclist 1 performing a uniform motion and cyclist 2 a uniformly accelerated motion.\n",
    "\n",
    "```{exercise}\n",
    "Read the code below and explain it for yourself. What does the code do? What is the expected output? \n",
    "\n",
    "Now run the cell and check if the output is as expected.\n",
    "```"
   ]
  },
  {
   "cell_type": "code",
   "execution_count": null,
   "id": "d0d84555-ab07-450c-9557-af46afbb5b92",
   "metadata": {},
   "outputs": [],
   "source": [
    "import numpy as np\n",
    "import matplotlib.pyplot as plt\n",
    "\n",
    "# Beginwaarden\n",
    "dt = 0.25                  #s\n",
    "t_e = 10                   #s\n",
    "N = int(t_e/dt)+1\n",
    "t = np.arange(0,t_e+dt,dt) #s\n",
    "\n",
    "# fietser 1\n",
    "x_1 = np.zeros(N)          #m     maakt array van lengte N met alleen maar waarde 0.\n",
    "v_1 = 5                    #m/s\n",
    "\n",
    "# fietser 2\n",
    "x_2 = np.zeros(N)          #m     \n",
    "v_2 = np.zeros(N)          #m/s     \n",
    "a_2 = .5                   #m/s^2     \n",
    "\n",
    "# Uitvoeren van de simulatie\n",
    "for i in range(0,N-1):\n",
    "    x_1[i+1] = x_1[i] + v_1*dt\n",
    "    \n",
    "    x_2[i+1] = x_2[i] + v_2[i]*dt\n",
    "    v_2[i+1] = v_2[i] + a_2*dt\n",
    "\n",
    "# Plotten van de gegevens.    \n",
    "plt.figure()\n",
    "\n",
    "plt.xlabel('$t$(s)')\n",
    "plt.ylabel('$x$(m)')\n",
    "\n",
    "plt.plot(t,x_1,'r.', markersize=1, label='fietser 1')\n",
    "plt.plot(t,x_2,'b.', markersize=1, label='fietser 2')\n",
    "\n",
    "plt.show()\n"
   ]
  },
  {
   "cell_type": "markdown",
   "id": "050bc0a7-83f1-4a73-936a-c019f0d164c7",
   "metadata": {},
   "source": [
    "```{note}\n",
    "Note that the code above has become more readable by the metadata: comments to explain what the code does, and spaces to separate different parts of the code. \n",
    "```\n",
    "\n",
    "What might be noticeable is that the velocity in a cell is kept constant ($x_i = v_i\\cdot\\Delta t$), while the velocity increases during the time interval $\\Delta t$. The solution is therefore an approximation of the exact solution, but because of this method (Euler explicit forward), we must be careful with the size of the time interval.\n",
    "\n",
    "```{exercise}\n",
    "Increase the time interval $dt$ and compare the distance traveled in ten seconds. What happens to the distance traveled if we increase $dt$? Does this make sense from a physics perspective? And given the discretization method? Explain.\n",
    "```"
   ]
  },
  {
   "cell_type": "markdown",
   "id": "432176e3-671d-4e1b-a42c-daf3a0ce2c88",
   "metadata": {},
   "source": [
    "<!-- Jouw antwoorden -->\n"
   ]
  },
  {
   "cell_type": "markdown",
   "id": "cd465cf6-3c82-47b4-ac50-889ca931519f",
   "metadata": {},
   "source": [
    "Let's return to the spring-mass system. Check the notes below on the sketch of the physical model to come up with the computational model.\n",
    "\n",
    "```{figure} model_tekening.jpg\n",
    ":width: 50%\n",
    "\n",
    "An initial sketch of the physical model used to create the computational model.\n",
    "```\n",
    "\n",
    "\n",
    "```{exercise}\n",
    " Run the simulation and plot the result (i.e., the deflection as a function of time). Explain why the simulation doesn't look good.\n",
    "\n",
    "```"
   ]
  },
  {
   "cell_type": "code",
   "execution_count": null,
   "id": "73ae823f-cf55-4e55-894b-0bd4a4b6f9df",
   "metadata": {},
   "outputs": [],
   "source": [
    "k = 10        #N/m\n",
    "g = 9.81      #m/s^2\n",
    "m = .1        #kg\n",
    "dt = 0.01     #s\n",
    "t_e = 3       #s\n",
    "t = np.arange(0,t_e+dt,dt)\n",
    "N = int(t_e/dt)+1\n",
    "\n",
    "u = np.zeros(N)\n",
    "v = np.zeros(N)\n",
    "\n",
    "u_eq = m*g/k\n",
    "u[0] = -5E-2   #m\n",
    "\n",
    "\n",
    "for i in range(N-1):\n",
    "    a = (-m*g + -k*(u[i]-u_eq))/m\n",
    "    v[i+1] = v[i] + a*dt \n",
    "    u[i+1] = u[i] + v[i]*dt\n",
    "\n",
    "plt.figure()\n",
    "plt.xlabel('$t$[s]')\n",
    "plt.ylabel('$u$[m]')\n",
    "plt.plot(t,u,'k.')\n",
    "\n",
    "plt.show()"
   ]
  },
  {
   "cell_type": "markdown",
   "id": "ca7575af-bf7a-4d1d-9fc5-6770395fef0b",
   "metadata": {},
   "source": [
    "We could improve the simulation slightly by using the information from the new position in the second step of the process: $v_{i+1}=v_i - \\frac{k}{m}\\frac{x_i+x_{i+1}}{2}\\Delta t$. This is called a semi-implicit Euler method. (note the slight change in notation from u to x)\n",
    "\n",
    "```{exercise}\n",
    "Apply this to your code and add the total energy ($E_{kin}+E_z$) to both code cells. What is a good measure of stability?\n",
    "```"
   ]
  },
  {
   "cell_type": "markdown",
   "id": "3588cb32-2b5d-445f-88b9-399dcabd7a80",
   "metadata": {},
   "source": [
    "There are better (i.e., more stable) solutions, such as the Runge-Kutta 4 method. We won't work this out mathematically here. If you notice your simulation is unstable, you can use, for example, Copilot to obtain a better simulation.\n"
   ]
  },
  {
   "cell_type": "code",
   "execution_count": null,
   "id": "c3c98023-daaa-48ec-b999-6a058c2b8485",
   "metadata": {},
   "outputs": [],
   "source": [
    "k = 10        #N/m\n",
    "g = 9.81      #m/s^2\n",
    "m = .1        #kg\n",
    "dt = 0.01     #s\n",
    "t_e = 3       #s\n",
    "N = int(t_e/dt)+1\n",
    "t = np.arange(0,t_e+dt,dt)\n",
    "\n",
    "u = np.zeros(N)\n",
    "v = np.zeros(N)\n",
    "u[0] = 5E-2   #m\n",
    "\n",
    "# Uitvoeren van de simulatie via RK4\n",
    "for i in range(0, N-1):\n",
    "    # u' = v\n",
    "    # v' = -k/m * u\n",
    "\n",
    "    # k1\n",
    "    ku1 = v[i]\n",
    "    kv1 = -k/m * u[i]\n",
    "\n",
    "    # k2\n",
    "    ku2 = v[i] + 0.5 * dt * kv1\n",
    "    kv2 = -k/m * (u[i] + 0.5 * dt * ku1)\n",
    "\n",
    "    # k3\n",
    "    ku3 = v[i] + 0.5 * dt * kv2\n",
    "    kv3 = -k/m * (u[i] + 0.5 * dt * ku2)\n",
    "\n",
    "    # k4\n",
    "    ku4 = v[i] + dt * kv3\n",
    "    kv4 = -k/m * (u[i] + dt * ku3)\n",
    "\n",
    "    # volgende stap\n",
    "    u[i+1] = u[i] + dt/6 * (ku1 + 2*ku2 + 2*ku3 + ku4)\n",
    "    v[i+1] = v[i] + dt/6 * (kv1 + 2*kv2 + 2*kv3 + kv4)\n",
    "\n",
    "# Plotten van de gegevens.    \n",
    "plt.figure()\n",
    "\n",
    "plt.xlabel('$t$(s)')\n",
    "plt.ylabel('$x$(m)')\n",
    "\n",
    "plt.plot(t,u,'r.', markersize=1)\n",
    "\n",
    "plt.show()\n"
   ]
  },
  {
   "cell_type": "markdown",
   "id": "03069d90",
   "metadata": {},
   "source": [
    "```{exercise}\n",
    "Also add the plot for the total energy to the code above. What is the percentage deviation in total energy between the beginning and end of the simulation?\n",
    "```"
   ]
  },
  {
   "cell_type": "markdown",
   "id": "c1cea798",
   "metadata": {},
   "source": [
    "<!-- Jouw antwoord -->"
   ]
  },
  {
   "cell_type": "code",
   "execution_count": null,
   "id": "90d80cb3-22cf-4648-af8e-59df207f4b47",
   "metadata": {},
   "outputs": [],
   "source": []
  }
 ],
 "metadata": {
  "kernelspec": {
   "display_name": "base",
   "language": "python",
   "name": "python3"
  },
  "language_info": {
   "codemirror_mode": {
    "name": "ipython",
    "version": 3
   },
   "file_extension": ".py",
   "mimetype": "text/x-python",
   "name": "python",
   "nbconvert_exporter": "python",
   "pygments_lexer": "ipython3",
   "version": "3.13.5"
  }
 },
 "nbformat": 4,
 "nbformat_minor": 5
}
