{
 "cells": [
  {
   "cell_type": "markdown",
   "id": "4b75370b",
   "metadata": {},
   "source": [
    "# Solutions to exercises<a class=\"anchor\" id=\"section_4_5\"></a>"
   ]
  },
  {
   "cell_type": "markdown",
   "id": "622b076d",
   "metadata": {},
   "source": [
    "**Exercise 4.1** "
   ]
  },
  {
   "cell_type": "code",
   "execution_count": null,
   "id": "34d9af3d",
   "metadata": {},
   "outputs": [],
   "source": [
    "a = np.array([1,2,3,4,5,6,7,8,9,10,11,32,55,78,22,99,55,33.2,55.77,99,101.3])\n",
    "\n",
    "#some code to set the first three and last two entries to zero \n",
    "\n",
    "# A bit tricky, but these work\n",
    "a[0] = 0\n",
    "a[1] = 0\n",
    "a[2] = 0\n",
    "\n",
    "# We could count forwards (a[19] = 0 and a[20] = 0), but is much \n",
    "# easier to count backwards from the  end\n",
    "a[-2] = 0\n",
    "a[-1] = 0\n",
    "print(a)"
   ]
  },
  {
   "cell_type": "markdown",
   "id": "f6729ebe",
   "metadata": {},
   "source": [
    "**Exercise 4.2:** "
   ]
  },
  {
   "cell_type": "code",
   "execution_count": null,
   "id": "47ce577d",
   "metadata": {},
   "outputs": [],
   "source": [
    "a = np.array(range(20))+1\n",
    "print(a)\n",
    "a[0:10]  =  0\n",
    "print(a)"
   ]
  },
  {
   "cell_type": "markdown",
   "id": "2c6e793e",
   "metadata": {},
   "source": [
    "**Exercise 4.2$*$:** "
   ]
  },
  {
   "cell_type": "code",
   "execution_count": null,
   "id": "2470b69a",
   "metadata": {},
   "outputs": [],
   "source": [
    "a = np.array([1,2,3,4,5,6,7,8,9,10,11,32,55,78,22,99,55,33.2,55.77,99,101.3])\n",
    "a[-2:]=0\n",
    "a[:2]=0\n",
    "print(a)"
   ]
  },
  {
   "cell_type": "markdown",
   "id": "67eedbda",
   "metadata": {},
   "source": [
    "**Exercise 4.3:** "
   ]
  },
  {
   "cell_type": "code",
   "execution_count": null,
   "id": "f95a9f0f",
   "metadata": {},
   "outputs": [],
   "source": [
    "n = np.array(range(21))\n",
    "out = 2**n\n",
    "print(out)"
   ]
  },
  {
   "cell_type": "markdown",
   "id": "86b3959c",
   "metadata": {},
   "source": [
    "**Exercise 4.4:** "
   ]
  },
  {
   "cell_type": "code",
   "execution_count": null,
   "id": "7fa09a40",
   "metadata": {},
   "outputs": [],
   "source": [
    "a = np.linspace(-2,1,20)\n",
    "print(a)"
   ]
  },
  {
   "cell_type": "markdown",
   "id": "891abacf",
   "metadata": {},
   "source": [
    "**Exercise 4.5:** "
   ]
  },
  {
   "cell_type": "code",
   "execution_count": null,
   "id": "851c01b0",
   "metadata": {},
   "outputs": [],
   "source": [
    "a = np.arange(60,49.9,-0.5)\n",
    "print(a)"
   ]
  },
  {
   "cell_type": "markdown",
   "id": "a1c12ba9",
   "metadata": {},
   "source": [
    "**Exercise 4.6:** "
   ]
  },
  {
   "cell_type": "code",
   "execution_count": null,
   "id": "4c74cf27",
   "metadata": {},
   "outputs": [],
   "source": [
    "raw = np.random.normal(7.5,1,300)\n",
    "rounded_grades = np.round(raw*2)/2\n",
    "print(rounded_grades)"
   ]
  },
  {
   "cell_type": "markdown",
   "id": "691ee560",
   "metadata": {},
   "source": [
    "**Exercise 4.7:** "
   ]
  },
  {
   "cell_type": "code",
   "execution_count": null,
   "id": "66c12937",
   "metadata": {},
   "outputs": [],
   "source": [
    "import matplotlib.pyplot as plt\n",
    "bins = np.arange(np.min(rounded_grades),np.max(rounded_grades)+0.5,0.5)\n",
    "\n",
    "plt.figure()\n",
    "plt.hist(rounded_grades, bins=bins)\n",
    "plt.xlabel('Grade')\n",
    "plt.ylabel('#')\n",
    "plt.show()"
   ]
  },
  {
   "cell_type": "markdown",
   "id": "4504deef",
   "metadata": {},
   "source": [
    "**Exercise 4.8:** "
   ]
  },
  {
   "cell_type": "code",
   "execution_count": null,
   "id": "c022a821",
   "metadata": {},
   "outputs": [],
   "source": [
    "m1 = np.zeros([3,3])\n",
    "m1[0,:] = np.array([1,1,0])\n",
    "m1[1,:] = np.array([0,2,1]) \n",
    "m1[2,:] = np.array([1,0,1]) \n",
    "m2 = np.zeros([3,3])\n",
    "m2[:,0] = np.array([1,3,1])\n",
    "m2[:,1] = np.array([3,1,1]) \n",
    "m2[:,2] = np.array([0,1,1]) \n",
    "\n",
    "# Check the matrices  \n",
    "print(m1)\n",
    "print()\n",
    "print(m2)\n",
    "print()\n",
    "\n",
    "product = np.matmul(m1,m2)\n",
    "print(product)"
   ]
  },
  {
   "cell_type": "markdown",
   "id": "be5e00ed",
   "metadata": {},
   "source": [
    "**Exercise 4.9:** "
   ]
  },
  {
   "cell_type": "code",
   "execution_count": null,
   "id": "76ca660f",
   "metadata": {},
   "outputs": [],
   "source": [
    "import numpy as np\n",
    "import matplotlib.pyplot as plt\n",
    "\n",
    "measurements = np.random.normal(5,1,20)\n",
    "print(measurements)\n",
    "\n",
    "average_n = np.cumsum(measurements)/np.arange(1,len(measurements)+1)\n",
    "\n",
    "plt.figure()\n",
    "plt.plot(np.arange(1,len(measurements)+1), average_n)\n",
    "plt.xlabel('average')\n",
    "plt.ylabel('n')\n",
    "plt.show()"
   ]
  },
  {
   "cell_type": "markdown",
   "id": "82fb5599",
   "metadata": {},
   "source": [
    "**Exercise 4.10:** "
   ]
  },
  {
   "cell_type": "code",
   "execution_count": null,
   "id": "d6ce244e",
   "metadata": {},
   "outputs": [],
   "source": [
    "import numpy as np\n",
    "\n",
    "array_skip = np.arange(14,44,2)\n",
    "print(array_skip)\n",
    "\n",
    "\n",
    "x = np.linspace(0,4,20)\n",
    "y = np.sqrt(x)\n",
    "print(y)"
   ]
  },
  {
   "cell_type": "markdown",
   "id": "c97ee9ef",
   "metadata": {},
   "source": [
    "**Excercise 4.11**"
   ]
  },
  {
   "cell_type": "code",
   "execution_count": null,
   "id": "3f30d2ab",
   "metadata": {},
   "outputs": [],
   "source": [
    "import matplotlib.pyplot as plt\n",
    "\n",
    "#First we define our function\n",
    "def f(x):\n",
    "    return np.exp(x**2)\n",
    "\n",
    "x = np.linspace(0,1,1000)         #generate an array with x values\n",
    "\n",
    "#make the figure\n",
    "plt.figure(figsize=(6,4))\n",
    "plt.plot(x,f(x))\n",
    "plt.xlim(0,1)\n",
    "plt.ylim(0)\n",
    "plt.ylabel('f(x)')\n",
    "plt.xlabel('x')\n",
    "plt.show()\n",
    "\n",
    "print('Maximum value of f(x) in the interval [0,1] is %.3f' %(np.max(f(x))))"
   ]
  },
  {
   "cell_type": "markdown",
   "id": "961a005a",
   "metadata": {},
   "source": [
    "The area under the graph is roughly equal to half of the total area of the square 1x3, i.e.  1.5."
   ]
  },
  {
   "cell_type": "markdown",
   "id": "dc008a0b",
   "metadata": {},
   "source": [
    "**Exercise 4.12**"
   ]
  },
  {
   "cell_type": "code",
   "execution_count": null,
   "id": "0a70adfc",
   "metadata": {},
   "outputs": [],
   "source": [
    "N = int(1e6)   #number of points that we are going to use in our calculation\n",
    "x_a = 0\n",
    "x_b = 1\n",
    "y_a = 0\n",
    "y_b = 3\n",
    "#Generating our samples:\n",
    "random_x = np.random.uniform(x_a,x_b,size=N)   \n",
    "random_y = np.random.uniform(y_a,y_b,size=N)"
   ]
  },
  {
   "cell_type": "markdown",
   "id": "3380a62a",
   "metadata": {},
   "source": [
    "**Exercise 4.13**"
   ]
  },
  {
   "cell_type": "code",
   "execution_count": null,
   "id": "52e433d9",
   "metadata": {},
   "outputs": [],
   "source": [
    "from time import time\n",
    "\n",
    "t1 = time()\n",
    "\n",
    "s = 0\n",
    "\n",
    "for i in range(len(random_x)):\n",
    "    if random_y[i] <= np.exp(random_x[i]**2):\n",
    "        s+= 1\n",
    "\n",
    "solution_integral = (x_b-x_a)*(y_b-y_a)*s/N\n",
    "\n",
    "print('The solution of the integral is %.6f' %(solution_integral))            \n",
    "print('Time for calculation: %.3f s' %(time()-t1))"
   ]
  },
  {
   "cell_type": "markdown",
   "id": "7cabfc98",
   "metadata": {},
   "source": [
    "**Exercise 4.14**"
   ]
  },
  {
   "cell_type": "code",
   "execution_count": null,
   "id": "06bf1b90",
   "metadata": {},
   "outputs": [],
   "source": [
    "t1 = time()\n",
    "\n",
    "s = np.sum(random_y <= np.exp(random_x**2))\n",
    "\n",
    "solution_integral = 3*s/N\n",
    "\n",
    "print('The solution of the integral is %.6f' %(solution_integral))            \n",
    "print('Time for calculation: %.3f s' %(time()-t1))"
   ]
  },
  {
   "cell_type": "markdown",
   "id": "0f9ad597",
   "metadata": {},
   "source": [
    "**Exercise 4.15**"
   ]
  },
  {
   "cell_type": "code",
   "execution_count": null,
   "id": "b7ed8b81",
   "metadata": {},
   "outputs": [],
   "source": [
    "random_x = np.random.uniform(0,1,1000)\n",
    "random_y = np.random.uniform(0,3,1000)\n",
    "\n",
    "points_within_area = np.array([random_x[random_y <= np.exp(random_x**2)],random_y[random_y <= np.exp(random_x**2)]])\n",
    "points_outside_area = np.array([random_x[random_y > np.exp(random_x**2)],random_y[random_y > np.exp(random_x**2)]])\n",
    "\n",
    "plt.figure(figsize=(6,4))\n",
    "plt.plot(points_outside_area[0],points_outside_area[1], '.',c='red')\n",
    "plt.plot(points_within_area[0],points_within_area[1], '.', c='green')\n",
    "plt.plot(x,f(x),linewidth=3,label='f(x)')\n",
    "plt.xlim(0,1)\n",
    "plt.ylim(0,3)\n",
    "plt.ylabel('f(x)')\n",
    "plt.xlabel('x')\n",
    "plt.legend()\n",
    "plt.show()"
   ]
  },
  {
   "cell_type": "markdown",
   "id": "380c5148",
   "metadata": {},
   "source": [
    "**Exercise 4.16**"
   ]
  },
  {
   "cell_type": "code",
   "execution_count": null,
   "id": "e32ef667",
   "metadata": {},
   "outputs": [],
   "source": [
    "def moving_avg(p, k):\n",
    "    \n",
    "    F = np.empty(len(p)-(k-1))\n",
    "    \n",
    "    for i in range(len(p)-(k-1)):\n",
    "        F[i] = (1/k)*np.sum(p[i:i+k])\n",
    "        \n",
    "    return F\n",
    "\n",
    "Z = np.arange(4,20)\n",
    "print(Z)\n",
    "print(moving_average(Z, 3))"
   ]
  },
  {
   "cell_type": "code",
   "execution_count": null,
   "id": "06426bc7",
   "metadata": {},
   "outputs": [],
   "source": []
  }
 ],
 "metadata": {
  "language_info": {
   "name": "python"
  }
 },
 "nbformat": 4,
 "nbformat_minor": 5
}
