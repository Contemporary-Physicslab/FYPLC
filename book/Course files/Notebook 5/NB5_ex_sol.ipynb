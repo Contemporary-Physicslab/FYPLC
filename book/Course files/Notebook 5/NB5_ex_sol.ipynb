{
 "cells": [
  {
   "cell_type": "markdown",
   "id": "cb3d4121",
   "metadata": {},
   "source": [
    "# Solutions to exercises<a class=\"anchor\" id=\"section_5_4\"></a>\n",
    "\n"
   ]
  },
  {
   "cell_type": "markdown",
   "id": "955eddca",
   "metadata": {},
   "source": [
    "**Exercise 5.1:** "
   ]
  },
  {
   "cell_type": "code",
   "execution_count": null,
   "id": "95e56693",
   "metadata": {},
   "outputs": [],
   "source": [
    "# You can also use the option \"unpack=True\" to have loadtxt send back all columns separately\n",
    "t2,v2 = np.loadtxt(\"exercise_data.dat\", unpack=True)\n",
    "\n",
    "print(\"Loaded\", len(v2), \"points\")"
   ]
  },
  {
   "cell_type": "markdown",
   "id": "0651805a",
   "metadata": {},
   "source": [
    "**Exercise 5.2:**"
   ]
  },
  {
   "cell_type": "code",
   "execution_count": null,
   "id": "48193112",
   "metadata": {},
   "outputs": [],
   "source": [
    "x = np.arange(1,100.1,0.1)\n",
    "\n",
    "def function(x):\n",
    "    return 3.05*x+0.95\n",
    "\n",
    "y = function(x)\n",
    "data = np.zeros([len(x),2])\n",
    "data[:,0] = x\n",
    "data[:,1] = y\n",
    "np.savetxt('testfile.csv',data,delimiter=';')\n"
   ]
  },
  {
   "cell_type": "markdown",
   "id": "ed1da0ef",
   "metadata": {},
   "source": [
    "**Exercise 5.3:**"
   ]
  },
  {
   "cell_type": "code",
   "execution_count": null,
   "id": "c12784a8",
   "metadata": {},
   "outputs": [],
   "source": [
    "plt.plot(t2,v2)\n",
    "# ALL PLOTS MUST HAVE LABELS WITH UNITS!!!!\n",
    "plt.xlabel(\"$t$ (s)\")\n",
    "plt.ylabel(\"$v$ (V)\")\n",
    "plt.show()"
   ]
  },
  {
   "cell_type": "markdown",
   "id": "bb9777fe",
   "metadata": {},
   "source": [
    "**Exercise 5.4:** "
   ]
  },
  {
   "cell_type": "code",
   "execution_count": null,
   "id": "046ce231",
   "metadata": {},
   "outputs": [],
   "source": [
    "# p = 2 looks ok\n",
    "p = 2\n",
    "plt.plot(t2**p,v2)\n",
    "# A decent label(we can use the  variable value automatically, and use latex for superscripts)\n",
    "plt.xlabel(\"$t^\"+ str(p) + \"$ (s$^\" + str(p)  +\"$)\")\n",
    "plt.ylabel(\"v (V)\")\n",
    "plt.show()"
   ]
  },
  {
   "cell_type": "markdown",
   "id": "843eb6a6",
   "metadata": {},
   "source": [
    "**Exercise 5.5:** "
   ]
  },
  {
   "cell_type": "code",
   "execution_count": null,
   "id": "4925ef86",
   "metadata": {},
   "outputs": [],
   "source": [
    "# p = 2 looks ok\n",
    "plt.plot(np.log(t2),np.log(v2),'o', label=\"Data\")\n",
    "\n",
    "# Now a straight line\n",
    "# This is a bit tricky, we need the same x-range as the data\n",
    "# My best estimate of the slope is 2.3\n",
    "x = np.log(t2)\n",
    "p = 2.3\n",
    "y = p*x\n",
    "plt.plot(x,y, label=\"Slope = \" + str(p))\n",
    "plt.legend()\n",
    "\n",
    "# A decent label(we can use the  variable value automatically, and use latex for superscripts)\n",
    "plt.xlabel(\"log(t) (log(s))\")\n",
    "plt.ylabel(\"log(v) (log(V))\")\n",
    "plt.show()"
   ]
  },
  {
   "cell_type": "markdown",
   "id": "31f31f49",
   "metadata": {},
   "source": [
    "**Exercise 5.6:** "
   ]
  },
  {
   "cell_type": "code",
   "execution_count": null,
   "id": "b59e3ba2",
   "metadata": {},
   "outputs": [],
   "source": [
    "a=2\n",
    "p=2.34\n",
    "plt.plot(t2,v2, 'o', label='Data')\n",
    "plt.plot(t2,a*t2**p, label='Model')\n",
    "plt.legend()\n",
    "plt.xlabel(\"t (s)\")\n",
    "plt.ylabel(\"v (V)\")\n",
    "plt.show()"
   ]
  },
  {
   "cell_type": "markdown",
   "id": "64d3bf8b",
   "metadata": {},
   "source": [
    "**Exercise 5.7:** "
   ]
  },
  {
   "cell_type": "code",
   "execution_count": null,
   "id": "e99f20fe",
   "metadata": {},
   "outputs": [],
   "source": [
    "def f2(t,a,p):\n",
    "    return a*t**p\n",
    "\n",
    "values, covariance = curve_fit(f2, t2, v2)\n",
    "\n",
    "a_fit = values[0]\n",
    "p_fit = values[1]\n",
    "\n",
    "print(values)\n",
    "\n",
    "plt.plot(t2,v2, 'o', label='Data')\n",
    "plt.plot(t2,f2(t2,a_fit,p_fit), label='Model')\n",
    "plt.legend()\n",
    "plt.xlabel(\"t (s)\")\n",
    "plt.ylabel(\"v (V)\")\n",
    "plt.show()"
   ]
  },
  {
   "cell_type": "markdown",
   "id": "ec317204",
   "metadata": {},
   "source": [
    "**Exercise 5.8**"
   ]
  },
  {
   "cell_type": "code",
   "execution_count": null,
   "id": "a652560c",
   "metadata": {},
   "outputs": [],
   "source": [
    "x_meas = np.arange(0,10.1,0.3)\n",
    "y_meas = 0.2345*x_meas**2 + 3.045*x_meas + np.random.normal(0,1.5,len(x_meas))\n",
    "\n",
    "#your code here                                   \n",
    "plt.figure(figsize=(3,3))\n",
    "plt.plot(x_meas,y_meas,'k.')\n",
    "plt.show()\n",
    "         \n",
    "#first guess\n",
    "def function_fit(x,a):\n",
    "    return a*x**2\n",
    "\n",
    "val, cov = curve_fit(function_fit,x_meas,y_meas)\n",
    "x_test = np.linspace(min(x_meas),max(x_meas),1000)\n",
    "\n",
    "plt.figure(figsize=(3,3))\n",
    "plt.plot(x_meas,y_meas,'k.')\n",
    "plt.plot(x_test,function_fit(x_test,*val))\n",
    "plt.show()\n",
    "\n",
    "plt.figure(figsize=(3,3))\n",
    "plt.plot(x_meas,y_meas-function_fit(x_meas,*val),'k.')\n",
    "plt.show()\n",
    "\n",
    "#there is a pattern in the residuals, so our formula does not sufffice\n",
    "\n",
    "#second guess\n",
    "def function_fit(x,a,b,c):\n",
    "    return a*x**2+b*x+c\n",
    "\n",
    "val, cov = curve_fit(function_fit,x_meas,y_meas)\n",
    "x_test = np.linspace(min(x_meas),max(x_meas),1000)\n",
    "\n",
    "plt.figure(figsize=(3,3))\n",
    "plt.plot(x_meas,y_meas,'k.')\n",
    "plt.plot(x_test,function_fit(x_test,*val))\n",
    "plt.show()\n",
    "\n",
    "plt.figure(figsize=(3,3))\n",
    "plt.plot(x_meas,y_meas-function_fit(x_meas,*val),'k.')\n",
    "plt.show()\n",
    "\n",
    "plt.figure(figsize=(3,3))\n",
    "plt.hist(y_meas-function_fit(x_meas,*val),bins=int(len(x_meas)/3))\n",
    "plt.show()\n",
    "\n",
    "#looks a bit gauss distributed\n",
    "print('the formula is: a*x**2+b*x+c with parameters a = %.2f +/- %.2f, b= %.1f+/-%.1f, c=%.1f+/-%.1f' %(val[0],np.sqrt(cov[0,0]),val[1],np.sqrt(cov[1,1]),val[2],np.sqrt(cov[2,2])))\n",
    "#Note that the number of decimal placed can differ as each time a new dataset is made!"
   ]
  },
  {
   "cell_type": "markdown",
   "id": "e9b4f6b2",
   "metadata": {},
   "source": [
    "**Exercise 5.8***"
   ]
  },
  {
   "cell_type": "code",
   "execution_count": null,
   "id": "aabdcd38",
   "metadata": {},
   "outputs": [],
   "source": [
    "a_err = np.sqrt(covariance[0,0])\n",
    "p_err = np.sqrt(covariance[1,1])\n",
    "\n",
    "# Uncomment to debug :)\n",
    "#print(a_err)\n",
    "#print(p_err)\n",
    "\n",
    "# A bit nerdy but cool: automatically format the string output with the \n",
    "# correct number of digits :)\n",
    "\n",
    "# (you can also just read off the number of digits by hand and \"hard code\" it...)\n",
    "\n",
    "a_dig = -(int(np.log10(a_err))-1)\n",
    "p_dig = -(int(np.log10(p_err))-1)\n",
    "\n",
    "# Uncomment to debug :)\n",
    "#print(a_dig)\n",
    "#print(p_dig)\n",
    "\n",
    "a_fmt = \"%.\" + str(a_dig) + \"f\"\n",
    "p_fmt = \"%.\" + str(p_dig) + \"f\"\n",
    "\n",
    "# The units on a are a bit funny, so we'll skip the units on this one...\n",
    "a_msg = \"a has the value %s +/- %s\" % (a_fmt, a_fmt)\n",
    "a_msg = a_msg % (a_fit, a_err)\n",
    "print(a_msg)\n",
    "\n",
    "p_msg = \"p has the value %s +/- %s\" % (p_fmt, p_fmt)\n",
    "p_msg = p_msg % (p_fit, p_err)\n",
    "print(p_msg)"
   ]
  },
  {
   "cell_type": "markdown",
   "id": "d90ac2bc",
   "metadata": {},
   "source": [
    "**Exercise 5.9**"
   ]
  },
  {
   "cell_type": "code",
   "execution_count": null,
   "id": "47167ab5",
   "metadata": {},
   "outputs": [],
   "source": [
    "y = 2.064 * np.cos(0.25*(2*np.pi)*x+0.45)+0.0075*x"
   ]
  },
  {
   "cell_type": "code",
   "execution_count": null,
   "id": "b78e3e86",
   "metadata": {},
   "outputs": [],
   "source": [
    "#load our data\n",
    "data = np.loadtxt('dataset.csv',delimiter=';')\n",
    "\n",
    "x_data = data[:,0]\n",
    "y_data = data[:,1]\n",
    "\n",
    "x_test = np.linspace(min(x_data),max(x_data),1000)\n",
    "    \n",
    "#see what it looks like\n",
    "plt.figure()\n",
    "plt.plot(x_data,y_data,'k.')\n",
    "plt.show()\n",
    "\n",
    "#First guess:\n",
    "def functie(x,a,b,c):\n",
    "    return a*np.cos(b*x+c)\n",
    "\n",
    "val, cov = curve_fit(functie,x_data,y_data,p0=(2.05,1.57,0.5))\n",
    "print(val)\n",
    "#see what it yields, playing with the inital guesses is required!\n",
    "plt.figure()\n",
    "plt.plot(x_data,y_data,'k.')\n",
    "plt.plot(x_test,functie(x_test,*val))\n",
    "plt.show()\n",
    "\n",
    "#looking at the residuals\n",
    "plt.figure()\n",
    "plt.plot(x_data,y_data-functie(x_data,*val))\n",
    "plt.show()\n",
    "\n",
    "#Our data clearly shows a hidden pattern!!!\n",
    "#second guess\n",
    "\n",
    "def functie(x,a,b,c,d):\n",
    "    return a*np.cos(b*x+c)+d*x\n",
    "\n",
    "val, cov = curve_fit(functie,x_data,y_data,p0=(2.05,1.57,0.5,0.05)) #estimate for d from slope\n",
    "print(val)\n",
    "\n",
    "\n",
    "plt.figure()\n",
    "plt.plot(x_data,y_data,'k.')\n",
    "plt.plot(x_test,functie(x_test,*val))\n",
    "plt.show()\n",
    "\n",
    "#looking at the residuals\n",
    "plt.figure()\n",
    "plt.plot(x_data,y_data-functie(x_data,*val))\n",
    "plt.show()"
   ]
  },
  {
   "cell_type": "code",
   "execution_count": null,
   "id": "4954cdc9",
   "metadata": {},
   "outputs": [],
   "source": [
    "x = np.linspace(0,6*np.pi,200)\n",
    "y = 2.064 * np.cos(0.25*(2*np.pi)*x+0.45)+0.0075*x\n",
    "\n",
    "dataset = np.zeros([len(x),2])\n",
    "dataset[:,0] = x\n",
    "dataset[:,1] = y\n",
    "np.savetxt('dataset.csv',dataset,delimiter=';')\n",
    "plt.figure()\n",
    "plt.plot(x,y,'k.')\n",
    "plt.show()"
   ]
  },
  {
   "cell_type": "code",
   "execution_count": null,
   "id": "0358ef27",
   "metadata": {},
   "outputs": [],
   "source": []
  },
  {
   "cell_type": "code",
   "execution_count": null,
   "id": "011e87a8",
   "metadata": {},
   "outputs": [],
   "source": []
  }
 ],
 "metadata": {
  "language_info": {
   "name": "python"
  }
 },
 "nbformat": 4,
 "nbformat_minor": 5
}
