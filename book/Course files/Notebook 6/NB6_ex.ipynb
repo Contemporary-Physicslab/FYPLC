{
 "cells": [
  {
   "cell_type": "markdown",
   "id": "d0877abf",
   "metadata": {},
   "source": [
    "# Exercises\n",
    "\n"
   ]
  },
  {
   "cell_type": "markdown",
   "id": "16be87b2",
   "metadata": {},
   "source": [
    "## Repeated readings and measurement uncertainty\n",
    "\n",
    "**`Exercise 6.1`** \\\n",
    "The results of eight titrated volumes (in ml) are: 25.8, 26.2, 26.0, 26.5, 25.8, 26.1, 25.8 and 26.3. \n",
    "\n",
    "Calculate:\n",
    "\n",
    "**(i)** the average, \n",
    "\n",
    "**(ii)** the standard deviation, \n",
    "\n",
    "**(iii)** the uncertainty in the mean of the volume,\n",
    "\n",
    "**(iv)** present the best estimate of the true volume with its associated uncertainty.\n"
   ]
  },
  {
   "cell_type": "code",
   "execution_count": null,
   "id": "7d17d50f",
   "metadata": {},
   "outputs": [],
   "source": [
    "# Answer exercise 6.1:\n",
    "V = np.array([25.8, 26.2, 26.0, 26.5, 25.8, 26.1, 25.8, 26.3])\n",
    "#Your code\n",
    "\n",
    "\n",
    "print('The average is: ')\n",
    "\n",
    "print('The standard deviation is: ')\n",
    "\n",
    "print('The uncertainty in the mean of the volume: ')\n",
    "\n",
    "print('The best estimate of the true volume is: ' )"
   ]
  },
  {
   "cell_type": "code",
   "execution_count": null,
   "id": "ddd79658",
   "metadata": {},
   "outputs": [],
   "source": []
  },
  {
   "cell_type": "markdown",
   "id": "c673ec6d",
   "metadata": {},
   "source": [
    "**`Exercise 6.1*`** \\\n",
    "You probably know the `np.mean` and the `np.std` commands. However you can also do them yourself using the definitions:\n",
    "$$\n",
    "\\overline{x} = \\frac{1}{N} \\sum_{i=1}^N x_i\n",
    "$$\n",
    "    \n",
    "$$\n",
    "\\sigma_x =  \\sqrt{\\frac{1}{N-1}   \\sum_{i=1}^N (x_i - \\mu_x)^2  }\n",
    "$$\n",
    "\n",
    "Use these on the following dataset and see if you get the same results as the `np.mean` and the `np.std` commands.\\\n",
    "**Data**\n",
    "\n",
    "|Tree Number|Total Height (m)|\n",
    "|---|---|\n",
    "|1|14.02|\n",
    "|2|14.15|\n",
    "|3|15.27|\n",
    "|4|11.81|\n",
    "|5|14.22|\n",
    "|6|20.52|\n",
    "|7|18.2|\n",
    "|8|16.92|\n",
    "|9|16.28|\n",
    "|10|20.8|\n",
    "|11|4.5|\n",
    "\n",
    "*Models of knot and stem development in black spruce trees indicate a shift in allocation priority to branches when growth is limited. Available from:* https://www.researchgate.net/figure/Characteristics-of-the-10-sample-trees-in-the-dataset_tbl1_274717928 *[accessed 24 Jul, 2020]*\n",
    "\n",
    "**a** Calculate in two different ways the mean value and the standard deviation.\n",
    "\n",
    "**b** If you notice a difference between the `np.std` function and the manual function I would encourage you to look at the documentation of the `np.std` function [Here](https://numpy.org/doc/stable/reference/generated/numpy.std.html).\n",
    "\n",
    "**c** How would you as a physicist write down the result?\n",
    "\n"
   ]
  },
  {
   "cell_type": "code",
   "execution_count": null,
   "id": "e243d5fe",
   "metadata": {},
   "outputs": [],
   "source": [
    "L = np.array([14.02,14.15,15.27,11.81,14.22,20.52,18.2,16.92,16.28,20.8,4.5])\n",
    "#your code\n"
   ]
  },
  {
   "cell_type": "code",
   "execution_count": null,
   "id": "af70ce29",
   "metadata": {},
   "outputs": [],
   "source": []
  },
  {
   "cell_type": "code",
   "execution_count": null,
   "id": "057aa016",
   "metadata": {},
   "outputs": [],
   "source": []
  },
  {
   "cell_type": "markdown",
   "id": "8421e61a",
   "metadata": {},
   "source": [
    "**`Exercise 6.2`** \\\n",
    "Below are eight resistor measurements, each based on ten repeated readings. However, only two measurements are adequately displayed. \n",
    "\n",
    "Which ones?\n",
    "\n",
    "**(i)** $(99.8 \\pm 0.270) \\cdot 10^3 \\,\\Omega$\n",
    "\n",
    "**(ii)** $(100 \\pm 0.3) \\cdot 10^3 \\,\\Omega$\n",
    "\n",
    "**(iii)** $(100.0 \\pm 0.3) \\cdot 10^3 \\,\\Omega$\n",
    "\n",
    "**(iv)** $(100.1 \\pm 0.3) \\cdot 10^3 \\$\n",
    "\n",
    "**(v)** $99.4 \\cdot 10^3 \\pm 36.0 \\cdot 10^2 \\,\\Omega$\n",
    "\n",
    "**(vi)** $101.5 \\cdot 10^3 \\pm 0.3 \\cdot 10^1 \\,\\Omega$\n",
    "\n",
    "**(vii)** $(99.8 \\pm 0.3) \\cdot 10^3 \\,\\Omega$\n",
    "\n",
    "**(viii)** $95.2 \\cdot 10^3 \\pm 273 \\,\\Omega$\n"
   ]
  },
  {
   "cell_type": "code",
   "execution_count": null,
   "id": "f4d727a2",
   "metadata": {},
   "outputs": [],
   "source": [
    "# Answer exercise 6.2\n",
    "print('The measurements adequately displayed are: ')"
   ]
  },
  {
   "cell_type": "code",
   "execution_count": null,
   "id": "22667bc0",
   "metadata": {},
   "outputs": [],
   "source": []
  },
  {
   "cell_type": "markdown",
   "id": "8cbe0037",
   "metadata": {},
   "source": [
    "**`Exercise 6.3`** \\\n",
    "Round the following numbers displaying two figures and use scientific notation.\n",
    "\n",
    "**(i)** 602.20\n",
    "\n",
    "**(ii)** 0.00135\n",
    "\n",
    "**(iii)** 0.0225\n",
    "\n",
    "**(iv)** 1.60219\n",
    "\n",
    "**(v)** 91.095\n"
   ]
  },
  {
   "cell_type": "code",
   "execution_count": null,
   "id": "731327ee",
   "metadata": {},
   "outputs": [],
   "source": [
    "# Answer exercise 6.3\n",
    "print('The correct notation of (i) is: ')\n",
    "print('The correct notation of (ii) is: ')\n",
    "print('The correct notation of (iii) is: ')\n",
    "print('The correct notation of (iv) is: ')\n",
    "print('The correct notation of (v) is: ')\n"
   ]
  },
  {
   "cell_type": "code",
   "execution_count": null,
   "id": "fb784d2e",
   "metadata": {},
   "outputs": [],
   "source": []
  },
  {
   "cell_type": "markdown",
   "id": "bf29f7e6",
   "metadata": {},
   "source": [
    "So, let us look at what happens when we repeat our measurements. How does this change our best estimate of the true value, and how does repeating measurements decrease the measurement uncertainty?\n",
    "\n"
   ]
  },
  {
   "cell_type": "markdown",
   "id": "96b46cc1",
   "metadata": {},
   "source": [
    "**`Exercise 6.4`** \\\n",
    "During an experiment, an automated reading of a certain quantity is carried out. The data is stored in the file 'experimental_results.csv'. \n",
    "\n",
    "**a** Load the data.\n",
    "\n",
    "**b** Calculate the average value and the standard deviation. Plot as well the histogram of the readings. \n"
   ]
  },
  {
   "cell_type": "code",
   "execution_count": null,
   "id": "00192028",
   "metadata": {},
   "outputs": [],
   "source": [
    "# your code for 6.4 a and b.\n"
   ]
  },
  {
   "cell_type": "markdown",
   "id": "ac6f4c05",
   "metadata": {},
   "source": [
    "We expect that the average value converges to a certain value (the true value) when we increase the number of repeated readings.\n",
    "\n",
    "**c** Plot the average value as function of the number of repeated readings. Thereto, make an array in which the average value as function of the number of repeated readings is stored. \n",
    "\n",
    "We also expect that the uncertainty in the average value decreases with an increasing number of repeated readings.\n",
    "\n",
    "**d** Plot the uncertainty in the average value as function of the number of repeated readings. Use a log-log scale.\n"
   ]
  },
  {
   "cell_type": "code",
   "execution_count": null,
   "id": "033b208f",
   "metadata": {},
   "outputs": [],
   "source": [
    "# your code for 6.4 c and d.\n"
   ]
  },
  {
   "cell_type": "code",
   "execution_count": null,
   "id": "2b99743c",
   "metadata": {},
   "outputs": [],
   "source": []
  },
  {
   "cell_type": "markdown",
   "id": "8a023e96",
   "metadata": {},
   "source": [
    "## Normal distribution<a class=\"anchor\" id=\"section_6_2\"></a>\n",
    "\n",
    "A measurement $M$ can be interpreted as the physical quantities' true value $G$ and some unwanted noise $s$: $M = G + s$. In many cases, this noise is *normally* distributed. For a normal distribution with mean $\\mu$, and standard deviation $\\sigma$, the probability density function is given by \n",
    "\n",
    "$$p(x) = \\frac{1}{\\sigma \\sqrt{2\\pi}}e^{-(x-\\mu)^2/2\\sigma ^2}$$\n",
    "  \n",
    "In general, a probability density $p(x)$ is a function that has the property that the probabilty that a random variable $X$ has a value smaller than $x$ is given by: \n",
    "\n",
    "$$\\mathbb{P}[X<x] = \\int_{-\\infty}^{x}p(\\tilde{x}) d \\tilde{x}$$  \n",
    "\n",
    "The normal distribution is sometimes called a Gaussian distribution, and its density function is sometimes called a Bell curve. Unfortunately, it is not possible to analytically solve the integral of the density of the normal distribution. Luckily, good numerical approximations of this integral, that is also called the errorfunction $Erf(x,\\mu, \\sigma)$, exist. In python you can use scipy.stats.norm.pdf for the probabilty density function, and scipy.stats.norm.cdf for the error function. [https://docs.scipy.org/doc/scipy/reference/generated/scipy.stats.norm.html].\n",
    "\n"
   ]
  },
  {
   "cell_type": "markdown",
   "id": "85890dfa",
   "metadata": {},
   "source": [
    "**`Exercise 6.5`** \\\n",
    "Bags of rice with indicated weight of 500 g are sold. In practice, this weight is normally distributed with an average weight of 502 g and a standard deviation of 14 g. \n",
    "\n",
    "**(a)** What is the chance that a bag of rice weights less than 500 g?\n",
    "\n",
    "**(b)** If we would buy 1000 bags of rice, how many can be expected to weigh at least 530 g? \n",
    "___Use the error function, Erf($x$; $\\bar{x}$, $\\sigma$) or scipy.stats.norm.cdf___ to compute this expectation.\n"
   ]
  },
  {
   "cell_type": "code",
   "execution_count": null,
   "id": "9c7d1060",
   "metadata": {},
   "outputs": [],
   "source": [
    "# Answer exercise 6.5\n",
    "\n",
    "print('(a)  P = ... ')\n",
    "print('(b)  number = ...')\n",
    "from scipy.stats import norm\n",
    "\n",
    "x = np.linspace(-10,10,100)\n",
    "plt.plot(x, norm.pdf(x, 0,1))\n",
    "plt.plot(x, norm.cdf(x,0,1))\n",
    "plt.show()"
   ]
  },
  {
   "cell_type": "code",
   "execution_count": null,
   "id": "99ebc522",
   "metadata": {},
   "outputs": [],
   "source": []
  },
  {
   "cell_type": "markdown",
   "id": "fc0544a3",
   "metadata": {},
   "source": [
    "**`Exercise 6.6`** \\\n",
    "In the movieclip below you see a blinking LED. Here we investigate how long the LED is ON.\n",
    "\n",
    "**(a)** Take 15 (3 sets of 5) repeated readings of the time that the LED is ON. Note these measurements in the array below. Also ask the dataset of someone else so you have 6x5 repeated readings. \n",
    "\n",
    "**(b)** Provide a reason for a potential systematic error and two reasons for potential random errors. \n",
    "\n",
    "**(c)** For each of set of five repeated readings calculate the average time $\\mu(t)$ the LED is on and the associated standard deviation $\\sigma(t)$ and the uncertainty $u(t)$.\n",
    "\n",
    "The average time found is probably not the same each time. We can calculate the standard deviation of the mean of each set of five readings.\n",
    "\n",
    "**(d)** Calculate the standard deviation of the mean. \n",
    "\n",
    "**(e)** Compare the standard deviation of the mean with the mean of the uncertainty of the 6 sets. Are these two values comparable?\n",
    "\n",
    "**(f)** Provide the best estimate of the time $\\mu(t) \\pm u(t)$ that the LED is on. Use the scientific conventions for presenting your result.\n"
   ]
  },
  {
   "cell_type": "markdown",
   "id": "ac1fc488",
   "metadata": {},
   "source": [
    "<div style=\"width:65%; margin:0 auto;\">\n",
    "    <iframe width=\"400\" height=\"300\" src=\"https://www.youtube.com/embed/wEtzi3oTLCk\" title=\"Knipperende LED\" frameborder=\"0\" allow=\"accelerometer; autoplay; clipboard-write; encrypted-media; gyroscope; picture-in-picture; web-share\" referrerpolicy=\"strict-origin-when-cross-origin\" allowfullscreen></iframe>\n",
    "</div>"
   ]
  },
  {
   "cell_type": "code",
   "execution_count": null,
   "id": "e56e2847",
   "metadata": {},
   "outputs": [],
   "source": [
    "# Answer exercise 6.6\n",
    "Measurements = np.array([[,,,,],\\\n",
    "                     [,,,,],\\\n",
    "                     [,,,,],\\\n",
    "                     [,,,,],\\\n",
    "                     [,,,,],\\\n",
    "                     [,,,,]]) #s\n",
    "\n",
    "\n",
    "Measurements_av = np.array([np.mean(),\\\n",
    "                       np.mean(),\\\n",
    "                       np.mean()])\n",
    "\n"
   ]
  },
  {
   "cell_type": "markdown",
   "id": "beb7785e",
   "metadata": {},
   "source": [
    "## Agreement analysis<a class=\"anchor\" id=\"section_6_3\"></a>\n",
    "\n",
    "If we have found a certain value and want to compare it with a known value, when do these values agree with each other? Certainly this depends on the average value found. But in the two figures below, we can also see that this depends on how (un)certain our determined values are. The first values might be in agreement with each other, as their pdf's overlap. But the second values certainly are not.\n",
    "\n",
    "<img src=\"norm.jpg\" width=\"500\"></img>\n",
    "<img src=\"norm2.jpg\" width=\"500\"></img>\n",
    "\n",
    "To see whether two values $P$ and $Q$ are in agreement, we check whether their difference in values are less than twice their combined uncertainties: $|P-Q|<2\\sqrt{u(P)^2+u(Q)^2} $.\n"
   ]
  },
  {
   "cell_type": "markdown",
   "id": "7352ec5b",
   "metadata": {},
   "source": [
    "**`Exercise 6.7`** \\\n",
    "For a certain physics quantity $E$, Eva has found a value of 14.5$\\pm$0.2. The literature value of this quantity is 14.9$\\pm$0.1.\n",
    "\n",
    "a) Check whether these values are in agreement with each other.\n"
   ]
  },
  {
   "cell_type": "code",
   "execution_count": null,
   "id": "1a5f8028",
   "metadata": {},
   "outputs": [],
   "source": [
    "# Answer exercise 6.7a\n"
   ]
  },
  {
   "cell_type": "markdown",
   "id": "fb627ff2",
   "metadata": {},
   "source": [
    "b) Write a function that makes use of four inputvariables, namely two quantities with their uncertainties. The function should return whether the values are in agreement with each other.\n"
   ]
  },
  {
   "cell_type": "code",
   "execution_count": null,
   "id": "cc5f620f",
   "metadata": {},
   "outputs": [],
   "source": [
    "# Answer exercise 6.7b\n"
   ]
  },
  {
   "cell_type": "markdown",
   "id": "a0af8c02",
   "metadata": {},
   "source": [
    "## Outliers: Chauvenet's criterium<a class=\"anchor\" id=\"section_6_4\"></a>\n",
    "\n",
    "In a repeated measurement series it is possible that there is an outlier, that deviates largely from the average. You may have made an error while performing the measurement, or it may be caused by random noise. However, it is not allowed to just selectively discard datapoints. Chauvenet's criterium provides a rule of thumb on when to remove a datapoint, arguing that that a statistical fluctuation is unlikely and there has likely been made a mistake. A datapoint may be removed if $2N \\cdot P_{\\text{outlier}} < 0.5$ where $P_{\\text{outlier}} = Erf(x_{\\text{outlier}}, \\bar x, \\sigma)$ when the outlier is below average, and $P_{\\text{outlier}} = 1-Erf(x_{\\text{outlier}}, \\bar x, \\sigma)$ else."
   ]
  },
  {
   "cell_type": "markdown",
   "id": "18b55eb4",
   "metadata": {},
   "source": [
    "**`Exercise 6.8`** \\\n",
    "Erin has conducted seven measurements on a capacitor (in $\\mu F$): 45.7, 53.2, 48.4, 45.1, 51.4, 62.1 and 49.3. The sixth measurement seems suspicious. Use Chauvenet's criterium to decide whether she should discard that measurement. "
   ]
  },
  {
   "cell_type": "code",
   "execution_count": null,
   "id": "efca1295",
   "metadata": {},
   "outputs": [],
   "source": [
    "# Answer exercise 6.8\n",
    "C = np.array([45.7, 53.2, 48.4, 45.1, 51.4, 62.1, 49.3])\n",
    "\n",
    "print('The sixth measurement should (not) be discarded, because ... ')"
   ]
  },
  {
   "cell_type": "code",
   "execution_count": null,
   "id": "0d8dd950",
   "metadata": {},
   "outputs": [],
   "source": [
    "\n"
   ]
  },
  {
   "cell_type": "markdown",
   "id": "119a2b56",
   "metadata": {},
   "source": [
    "**`Exercise 6.8*`** \\\n",
    "In excercise 6.1* you looked at different tree heights. One height stood out.\n",
    "\n",
    "Would you be allowed to discard the measurment of height 4.5 m? Give a supporting and a counter argument."
   ]
  },
  {
   "cell_type": "code",
   "execution_count": null,
   "id": "a1f03905",
   "metadata": {},
   "outputs": [],
   "source": []
  },
  {
   "cell_type": "markdown",
   "id": "a01ba9bf",
   "metadata": {},
   "source": [
    "## Poisson distribution<a class=\"anchor\" id=\"section_6_5\"></a>\n",
    "\n",
    "Another widely used probability distribution is the *Poisson* distribution. Many situations that involve counting are described by the poisson distribution, such as radioactive decay or the number of people in a queue.  \n",
    "  \n",
    "In a poisson process with parameter $\\lambda$, the probabilty that $k$ events occur is: \n",
    "\n",
    "$$\\mathbb{P}[X = k] = \\frac{\\lambda^k}{k!}e^{-\\lambda}$$\n",
    "\n",
    "The mean counts would be $\\lambda$ and the standard deviation $\\sigma = \\sqrt{\\lambda}$."
   ]
  },
  {
   "cell_type": "markdown",
   "id": "504136de",
   "metadata": {},
   "source": [
    "**`Exercise 6.9`** \\\n",
    "In an experiment with a radioactive source, the number of counts in a specific timeinterval is measured 58 times. This resulted in the following distribution of the counts $N$:\n",
    "\n",
    "| N (counts) | Frequency |\n",
    "|------------|-------------------------|\n",
    "| 1          | 1                       |\n",
    "| 2          | 0                       |\n",
    "| 3          | 2                       |\n",
    "| 4          | 3                       |\n",
    "| 5          | 6                       |\n",
    "| 6          | 9                       |\n",
    "| 7          | 11                      |\n",
    "| 8          | 8                       |\n",
    "| 9          | 8                       |\n",
    "| 10         | 6                       |\n",
    "| 11         | 2                       |\n",
    "| 12         | 1                       |\n",
    "| 13         | 1                       |\n",
    "\n",
    "Calculate:\n",
    "\n",
    "**(a)** the total number of counts; \n",
    "\n",
    "**(b)** the average number of counts $\\mu$;  \n",
    "\n",
    "**(c)** the standard deviation $\\sigma$. \n",
    "\n",
    "If the experiment is to be repeated again using 58 measurements \n",
    "\n",
    "**(d)** calculate the expected number of measurements with five or less counts.\n",
    "\n"
   ]
  },
  {
   "cell_type": "code",
   "execution_count": null,
   "id": "46948ff3",
   "metadata": {},
   "outputs": [],
   "source": [
    "# Answer exercise 6.9\n",
    "\n",
    "print('(a) The total number of counts ... ')\n",
    "print('(b) The average number of counts ... ')\n",
    "print('(c) The standard deviation is ... ')\n",
    "print('(d) The expected number of measurements with five or less counts is ... ')"
   ]
  },
  {
   "cell_type": "code",
   "execution_count": null,
   "id": "e2343348",
   "metadata": {},
   "outputs": [],
   "source": []
  },
  {
   "cell_type": "markdown",
   "id": "18f2d157",
   "metadata": {},
   "source": [
    "**`Exercise 6.9*`** \\\n",
    "A shop owner wants to know how many people visit his shop. He installs a device that counts the number of people that enter the shop every minute. In total 1000 measurements were done.\n",
    "\n",
    "**a** Import the person_count.dat file. \n",
    " \n",
    "**b** Determine the average value as well as the standard deviation.\n",
    " \n",
    "**c** Plot the data in a histogram. What kind of distribution do you think the data is best described by, and why? Plot the distribution function on top of the histogram to check."
   ]
  },
  {
   "cell_type": "code",
   "execution_count": null,
   "id": "7e28506e",
   "metadata": {},
   "outputs": [],
   "source": []
  },
  {
   "cell_type": "markdown",
   "id": "681f7862",
   "metadata": {},
   "source": [
    "## Error propagation <a class=\"anchor\" id=\"section_6_6\"></a>\n",
    "\n",
    "Let's say you have determined a value in an experiment. When you want to use it in an equation, the uncertainty propagates to the new calculated quantity. In general, we use two methods: the functional approach and the calculus approach.\n",
    "  \n",
    "**Functional approach:** \\\n",
    "For a quantity $Z(A)$ that depends on $A$ we have: \n",
    "\n",
    "$$u(Z) = \\frac{Z(A+u(A)) - Z(A-u(A))}{2}$$\n",
    "  \n",
    "**Calculus approach:** \\\n",
    "For a quantity $Z(A)$ that depends on $A$ we have: \n",
    "\n",
    "$$u(Z) = \\frac{d Z}{d A} u(A)$$\n",
    "  \n",
    "**Multiple variables:** \\\n",
    "For a quantity $Z(A,B)$ that depends on multiple variables, the uncertainty is calculated by taking the square root of the sum of squared individual uncertainties:\n",
    "\n",
    "**Functional:** $u(Z) = \\sqrt{(\\frac{Z(A+u(A)) - Z(A-u(A))}{2})^2 + (\\frac{Z(B+u(B)) - Z(B-u(B))}{2})^2}$\n",
    "**Calculus:** $u(Z) = \\sqrt{(\\frac{\\partial Z}{\\partial A} u(A))^2 + (\\frac{\\partial Z}{\\partial B} u(B))^2}$"
   ]
  },
  {
   "cell_type": "markdown",
   "id": "95b3ea0c",
   "metadata": {},
   "source": [
    "**`Exercise 6.10`** \\\n",
    "___Give the most important steps in your calculations.___\n",
    "\n",
    "The value of a physical quantity $A$ is determined to be $A = 9.274 \\pm 0.005$. Calculate the value of the physical quantity $Z$ and its uncertainty $\\alpha_{Z}$ using the calculus approach and the functional approach, when $Z$ depends on $A$ as follows:\n",
    "\n",
    "**(a)** $Z = \\sqrt{A}$\n",
    "\n",
    "**(b)** $Z = \\exp⁡{(A^{2})}$\n"
   ]
  },
  {
   "cell_type": "code",
   "execution_count": null,
   "id": "84a4d07d",
   "metadata": {},
   "outputs": [],
   "source": [
    "# Answer exercise 6.10\n",
    "# add your calculations here\n",
    "# ...\n",
    "print('(a) Z =  ... ± ... ')\n",
    "print('(b) Z =  ... ± ... ')"
   ]
  },
  {
   "cell_type": "markdown",
   "id": "b05ecdba",
   "metadata": {},
   "source": [
    "**`Exercise 6.11`** \\\n",
    "___Give the most important steps in your calculations.___\n",
    "\n",
    "Three physical quantities have been determined to be $A = 12.3 \\pm 0.4$, $B = 5.6 \\pm 0.8$ en C = $89.0 \\pm 0.2$. Calculate the value of the physical quantity $Z$ and its uncertainty $u(Z)$ using the calculus approach and/or the functional approach, when $Z$ depends on $A$, $B$, and $C$ as follows:\n",
    "\n",
    "**(a)** $Z = A - B$\n",
    "\n",
    "**(b)** $Z = \\frac{A B }{C}$\n",
    "\n",
    "**(c)** $Z = \\exp{⁡(\\frac{A B}{C})}$\n"
   ]
  },
  {
   "cell_type": "code",
   "execution_count": null,
   "id": "a2c34c7d",
   "metadata": {},
   "outputs": [],
   "source": [
    "# Answer exercise 6.11\n",
    "# add your calculations here\n",
    "\n",
    "print('(a) Z =  ... ± ... ')\n",
    "print('(b) Z =  ... ± ... ')\n",
    "print('(c) Z =  ... ± ... ')"
   ]
  },
  {
   "cell_type": "markdown",
   "id": "5d3ec04a",
   "metadata": {},
   "source": [
    "**`Exercise 6.12`** \\\n",
    "You have both seen the functional and the analytical method for calculating the propagation of an error. \n",
    "\n",
    "Apply both methods on the following functions:\n",
    "\n",
    "$$Z(x)=\\frac{x-1}{x+1}$$\n",
    "\n",
    "With $x = 3.2 \\pm 0.2$\n",
    "\n",
    "$$ Z(x)=e^{x^2} $$\n",
    "\n",
    "With $ x = 8.745 \\pm 0.005$"
   ]
  },
  {
   "cell_type": "code",
   "execution_count": null,
   "id": "18aba198",
   "metadata": {},
   "outputs": [],
   "source": [
    "# Solution 6.12\n",
    "# add your calculations here\n"
   ]
  },
  {
   "cell_type": "code",
   "execution_count": null,
   "id": "c7f48917",
   "metadata": {},
   "outputs": [],
   "source": []
  },
  {
   "cell_type": "markdown",
   "id": "1b694dcd",
   "metadata": {},
   "source": [
    "## Gaussian Fit <a class=\"anchor\" id=\"section_6_7\"></a>\n",
    "\n",
    "In Notebook 5 (section 5.3.5 Residuals) we have already seen that residuals that are the result of noise in the measurements should typically be normally distributed. To verify if the residuals are indeed normally distributed one can make a histogram of these residuals and compare it with the related normal distribution, as will be done in the following exercise."
   ]
  },
  {
   "cell_type": "markdown",
   "id": "508a967f",
   "metadata": {},
   "source": [
    "**`Exercise 6.13`**\n",
    "\n",
    "Interest in ratios of the human body is of all times. A linear relation between height and weight is suspected. In this exercise, we examine this relation.  \n",
    "Attached is a csv file which contains the height (first column) and the weight (second column) of a (male) person. \n",
    "\n",
    "**a** Convert the data to metric units as it is now in inches and in lbs. \n",
    "\n",
    "**b** Make a scatter plot and investigate whether there is a linear relation. \n",
    "\n",
    "**c** Determine the mean and std of both the height and weight. \n",
    "\n",
    "**d** Make a histogram for both and overlay a Gaussian to see if the data follows a normal distribution."
   ]
  },
  {
   "cell_type": "code",
   "execution_count": null,
   "id": "f6dfb725",
   "metadata": {},
   "outputs": [],
   "source": [
    "#import data\n",
    "H_W_data = np.genfromtxt('weight-height.csv',delimiter=',',dtype=float,skip_header=1)\n",
    "height = []\n",
    "weight = []\n",
    "\n",
    "#Convert to metric units\n",
    "\n",
    "\n",
    "#Calculate mean and std\n",
    "\n",
    "\n",
    "#Linear function to fit\n",
    "\n",
    "\n",
    "#Curvefit\n",
    "\n",
    "\n",
    "#Scatter plot\n",
    "plt.figure(figsize=(12,4))\n",
    "\n",
    "\n",
    "plt.show()\n",
    "\n",
    "\n",
    "#Histogram plot\n"
   ]
  },
  {
   "cell_type": "markdown",
   "id": "3a5d2e11",
   "metadata": {},
   "source": [
    "### Additional Exercises "
   ]
  },
  {
   "cell_type": "markdown",
   "id": "00348d4b",
   "metadata": {},
   "source": [
    "**`Exercise 6.14`** Fitting with a measurement error  \n",
    "\n",
    "When measuring there is always a very real possibility of a systematic error. One of these systematic erros can be found in a mass-springsystem. Normally the period of a mass-spring system is given by: $T = 2\\pi \\sqrt{\\frac{m}{C}}$. Here $m$ is the mass and $C$ is the spring constant. However this formula assumes that you have a massless spring, this is not true unfortunately. This means that the mass of the spring is also vibrating, we should thus change the formula to take this into account. This gives the following equation: $T = 2\\pi \\sqrt{\\frac{m + \\Delta m}{C}}$, where $\\Delta m$ is the systematic error.\n",
    "\n",
    "With the measurements that we have we can find both the spring constant and its uncertainties. The array m is an array with the values for the measured m and the array T is an array with all the measured data for the period. You can disregard the invalid use of significant figures.\n",
    "\n",
    "**a** Plot the data\n",
    "\n",
    "**b** Find the parameters $\\Delta m$ and $C$ with its corresponding uncertainties\n",
    "\n",
    "**c** Plot the fitted function over the data and examine the residuals"
   ]
  },
  {
   "cell_type": "code",
   "execution_count": null,
   "id": "c0a6941b",
   "metadata": {},
   "outputs": [],
   "source": [
    "m = np.array([50, 100, 150, 200, 250, 300])\n",
    "T = np.array([2.47, 3.43, 4.17, 4.80, 5.35, 5.86])"
   ]
  },
  {
   "cell_type": "code",
   "execution_count": null,
   "id": "4b5d3696",
   "metadata": {},
   "outputs": [],
   "source": []
  },
  {
   "cell_type": "markdown",
   "id": "995b1a76",
   "metadata": {},
   "source": [
    "**`Exercise 6.15`** Gravitational force  \n",
    "\n",
    "The gravitational force between two bodies can be described with Newton's law of universal gravitation: $F = \\frac{Gm_1m_2}{r^2}$, where $G$ is the gravitational constant, $m_i$ the masses of the bodies and $r$ the distance between the bodies.\n",
    "\n",
    "Suppose that a meteorite of mass $(4.739\\pm0.154)\\cdot10^8$kg at a distance of $(2.983\\pm0.037)\\cdot10^6$m is moving towards the earth. \n",
    "\n",
    "**Exercise:** Determine the attracting force between the meteorite and earth. Use both the functional and the calculus approach to calculate the uncertainty in $F$ and compare the results. \n",
    "You can use the following values:\n",
    "* Earth mass: $(5.9722\\pm0.0006)\\cdot10^{24}$kg\n",
    "* Gravitational constant: $(6.67259\\pm0.00030)\\cdot10^{-11}$m$^3$ s$^{-2}$ kg$^{-1}$\n"
   ]
  },
  {
   "cell_type": "code",
   "execution_count": null,
   "id": "b67e3dc7",
   "metadata": {},
   "outputs": [],
   "source": [
    "#function for gravitational force\n",
    "def FG(G,m1,m2,r):\n",
    "    \n",
    "#values\n",
    "G = 6.6759e-11\n",
    "u_G = 0.00030e-11\n",
    "\n",
    "m1 = 4.739e8\n",
    "u_m1 = 0.154e8\n",
    "\n",
    "m2 = 5.9722e24\n",
    "u_m2 = 0.0006e24\n",
    "\n",
    "r = 2.983e6\n",
    "u_r = 0.037e6\n",
    "\n",
    "#value of gravitatonal force\n",
    "\n",
    "\n",
    "#Calculus approach\n",
    "\n",
    "\n",
    "#functional approach\n",
    "\n"
   ]
  },
  {
   "cell_type": "code",
   "execution_count": null,
   "id": "96289937",
   "metadata": {},
   "outputs": [],
   "source": []
  },
  {
   "cell_type": "markdown",
   "id": "c029e775",
   "metadata": {},
   "source": [
    "**`Exercise 6.16`** A mass-spring system  \n",
    "\n",
    "A student measures the position of a simple mass-spring system. Unfortunately, he accidently moves his measuring device during the experiment. He is not sure if the device was put back in the right position and wants to know if there is a systematic error in his data. The dataset consists of 400 position measurements (in cm) over the course of 5 seconds. The data is expected to follow a sine function with an amplitude of 4.5 cm and a period of 0.4 s. \n",
    "\n",
    "\n",
    " \n",
    "\n",
    "**a** Import the meting_massaveer.dat file.\n",
    " \n",
    "**b** Plot the raw data, calculate and plot the residuals, and use it to determine if there is a systematic error. If so, determine the size and time of the shift."
   ]
  },
  {
   "cell_type": "code",
   "execution_count": null,
   "id": "1763d8f5",
   "metadata": {},
   "outputs": [],
   "source": [
    "m_C_data = np.genfromtxt('meting_massaveer.dat')\n",
    "t = np.linspace(0,5,400)\n",
    "\n",
    "def sine(x):                        #sine function to fit the data\n",
    "      return 4.5*np.sin(2*np.pi*2.5*x)\n",
    "\n",
    "#plot of data and sine function\n",
    "\n",
    "#calculate residuals\n",
    "\n",
    "#plot of Residuals"
   ]
  },
  {
   "cell_type": "code",
   "execution_count": null,
   "id": "f3eae819",
   "metadata": {},
   "outputs": [],
   "source": []
  }
 ],
 "metadata": {
  "language_info": {
   "name": "python"
  }
 },
 "nbformat": 4,
 "nbformat_minor": 5
}
