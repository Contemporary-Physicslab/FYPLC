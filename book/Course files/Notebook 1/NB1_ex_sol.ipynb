{
 "cells": [
  {
   "cell_type": "markdown",
   "id": "26b4b849",
   "metadata": {},
   "source": [
    "## Solutions to Exercises<a class=\"anchor\" id=\"section_1_7\"></a>\n"
   ]
  },
  {
   "cell_type": "markdown",
   "id": "3e40171f",
   "metadata": {},
   "source": [
    "**Exercise 1.1**\n"
   ]
  },
  {
   "cell_type": "code",
   "execution_count": null,
   "id": "a16c0644",
   "metadata": {},
   "outputs": [],
   "source": [
    "# You can print special characters:\n",
    "print(\"My first message #1\")\n",
    "print(\"Another special character: one \\ two\")\n",
    "\n",
    "# However, there are some special combinations such as \\n that have another meaning. \n",
    "# In this case, \\n starts a new line.\n",
    "print(\"Another special character: one \\n two\")\n",
    "\n",
    "# If we wish to print the text \\n, we should add another \\ to indicate that we do not.\n",
    "print(\"Another special character: one \\\\n two\")\n",
    "\n"
   ]
  },
  {
   "cell_type": "markdown",
   "id": "f9f69e86",
   "metadata": {},
   "source": [
    "**Exercise 1.2**"
   ]
  },
  {
   "cell_type": "code",
   "execution_count": null,
   "id": "55ec4f38",
   "metadata": {},
   "outputs": [],
   "source": [
    "print('The value is', 10)\n",
    "# Note that a space is added in between the string and the number.\n"
   ]
  },
  {
   "cell_type": "markdown",
   "id": "41593656",
   "metadata": {},
   "source": [
    "**Exercise 1.3**\n"
   ]
  },
  {
   "cell_type": "code",
   "execution_count": null,
   "id": "5e727687",
   "metadata": {},
   "outputs": [],
   "source": [
    "a = 5\n",
    "print(a) # this prints 5\n",
    "a = 7\n",
    "print(a) # this prints 7 as the current value of a is 7\n",
    "\n"
   ]
  },
  {
   "cell_type": "markdown",
   "id": "2fa1667a",
   "metadata": {},
   "source": [
    "**Exercise 1.4**\n",
    "# After restarting the kernel all variables, such as a, are no longer stored and do not show up in %whos.\n"
   ]
  },
  {
   "cell_type": "markdown",
   "id": "9a03ce7b",
   "metadata": {},
   "source": [
    "**Exercise 1.5**\n"
   ]
  },
  {
   "cell_type": "code",
   "execution_count": null,
   "id": "3a47b842",
   "metadata": {},
   "outputs": [],
   "source": [
    "print('This is the first string' + 'and this is the second string.')\n",
    "# The strings are joined.\n"
   ]
  },
  {
   "cell_type": "markdown",
   "id": "1109cc23",
   "metadata": {},
   "source": [
    "**Exercise 1.6**\n"
   ]
  },
  {
   "cell_type": "code",
   "execution_count": null,
   "id": "33f9f03a",
   "metadata": {},
   "outputs": [],
   "source": [
    "# Only 0 is False, some examples:\n",
    "if 0:\n",
    "    print('0 is True')\n",
    "else: \n",
    "    print('0 is False')\n",
    "    \n",
    "if 1:\n",
    "    print('1 is True')\n",
    "else: \n",
    "    print('1 is False')\n",
    "    \n",
    "if -57:\n",
    "    print('-57 is True')\n",
    "else: \n",
    "    print('-57 is False')\n",
    "    \n",
    "if 6/7:\n",
    "    print('6/7 is True')\n",
    "else: \n",
    "    print('6/7 is False')\n"
   ]
  },
  {
   "cell_type": "markdown",
   "id": "b3f3b2a5",
   "metadata": {},
   "source": [
    "**Exercise 1.7**\n",
    "# \n"
   ]
  },
  {
   "cell_type": "markdown",
   "id": "921da8ec",
   "metadata": {},
   "source": [
    "**Exercise 1.8**\n"
   ]
  },
  {
   "cell_type": "code",
   "execution_count": null,
   "id": "22f623f1",
   "metadata": {},
   "outputs": [],
   "source": [
    "a = [2,3,5]\n",
    "b = np.array([2,3,5])\n",
    "\n",
    "print(2*a) # Multiplying the list is like adding the two lists such that it is repeated. \n",
    "print(2*b) # Multiplying the numpy array multplies each value in the array.\n"
   ]
  },
  {
   "cell_type": "markdown",
   "id": "6c5da71e",
   "metadata": {},
   "source": [
    "**Exercise 1.9**\n"
   ]
  },
  {
   "cell_type": "code",
   "execution_count": null,
   "id": "af90f342",
   "metadata": {},
   "outputs": [],
   "source": [
    "even_nr = np.arange(0,10,2)\n",
    "print(even_nr)\n",
    "odd_nr = np.arange(1,11,2)\n",
    "print(odd_nr)\n",
    "\n",
    "total = np.append(even_nr, odd_nr)\n",
    "print(total)\n",
    "total = np.sort(total)\n",
    "print(total)\n",
    "total = np.delete(total, 2)\n",
    "print(total)\n"
   ]
  },
  {
   "cell_type": "markdown",
   "id": "fc6578ab",
   "metadata": {},
   "source": [
    "**Exercise 1.10**\n",
    "#\n"
   ]
  },
  {
   "cell_type": "markdown",
   "id": "0dc56e78",
   "metadata": {},
   "source": [
    "**Exercise 1.11**\n"
   ]
  },
  {
   "cell_type": "code",
   "execution_count": null,
   "id": "5161b50f",
   "metadata": {},
   "outputs": [],
   "source": [
    "print('7*3 =', 7*3)\n",
    "print('7-3 =', 7-3)\n",
    "print('7/3 =', 7/3)\n",
    "print('7**3 =', 7**3)\n",
    "print('7//3 =', 7//3)\n",
    "print('7%3 =', 7%3)\n"
   ]
  },
  {
   "cell_type": "markdown",
   "id": "66d76466",
   "metadata": {},
   "source": [
    "**Exercise 1.12**\n"
   ]
  },
  {
   "cell_type": "code",
   "execution_count": null,
   "id": "b813f72a",
   "metadata": {},
   "outputs": [],
   "source": [
    "# You can chech that the input is always a string.\n",
    "a = input('type input: ')\n",
    "print(type(a))\n"
   ]
  },
  {
   "cell_type": "markdown",
   "id": "9764d238",
   "metadata": {},
   "source": [
    "**Exercise 1.13**\n",
    "#\n"
   ]
  },
  {
   "cell_type": "markdown",
   "id": "03e686d5",
   "metadata": {},
   "source": [
    "**Exercise 1.14**\n",
    "# ZeroDivisionError: division by zero\n",
    "# You cannot divide by zero, so this results in an error.\n",
    "\n",
    "# NameError: name 'practicum' is not defined\n",
    "# You cannot use an undefined variable, use a string to print text.\n",
    "\n",
    "# TypeError: can only concatenate str (not \"int\") to str\n",
    "# You cannot add a string and an integer. We can add two strings: \n"
   ]
  },
  {
   "cell_type": "code",
   "execution_count": null,
   "id": "cb23988a",
   "metadata": {},
   "outputs": [],
   "source": [
    "print('practicum is great' + str(2))\n"
   ]
  },
  {
   "cell_type": "markdown",
   "id": "f39b1716",
   "metadata": {},
   "source": [
    "**Exercise 1.15**\n",
    "#\n"
   ]
  },
  {
   "cell_type": "markdown",
   "id": "9f5f0116",
   "metadata": {},
   "source": [
    "**Exercise 1.13**\n",
    "#\n"
   ]
  }
 ],
 "metadata": {
  "language_info": {
   "name": "python"
  }
 },
 "nbformat": 4,
 "nbformat_minor": 5
}
